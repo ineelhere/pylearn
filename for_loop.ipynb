{
  "nbformat": 4,
  "nbformat_minor": 0,
  "metadata": {
    "colab": {
      "name": "Untitled6.ipynb",
      "provenance": [],
      "authorship_tag": "ABX9TyMzSVXQ8wU2gjF4NItRNeLE",
      "include_colab_link": true
    },
    "kernelspec": {
      "name": "python3",
      "display_name": "Python 3"
    }
  },
  "cells": [
    {
      "cell_type": "markdown",
      "metadata": {
        "id": "view-in-github",
        "colab_type": "text"
      },
      "source": [
        "<a href=\"https://colab.research.google.com/github/chhayagajra/pylearn/blob/master/for_loop.ipynb\" target=\"_parent\"><img src=\"https://colab.research.google.com/assets/colab-badge.svg\" alt=\"Open In Colab\"/></a>"
      ]
    },
    {
      "cell_type": "code",
      "metadata": {
        "id": "fIKFxfyAcZZq"
      },
      "source": [
        ""
      ],
      "execution_count": null,
      "outputs": []
    },
    {
      "cell_type": "markdown",
      "metadata": {
        "id": "9QZwcfZTdol-"
      },
      "source": [
        "loops in python\n"
      ]
    },
    {
      "cell_type": "markdown",
      "metadata": {
        "id": "oo5obKWQcjcn"
      },
      "source": [
        "~ for loop in python\n"
      ]
    },
    {
      "cell_type": "code",
      "metadata": {
        "id": "UkmJqEqppJH5",
        "outputId": "7ac3b80d-1b1f-472f-9d25-904fa45c52ab",
        "colab": {
          "base_uri": "https://localhost:8080/",
          "height": 34
        }
      },
      "source": [
        "#Program to find the sum of all numbers stored in a list\n",
        "\n",
        "numbers = [5, 5, 9, 8, 4, 2, 5, 4, 1] \n",
        "\n",
        "sum = 0 #variable to store the sum\n",
        "\n",
        "for val in numbers: # iterate over the list\n",
        "\tsum = sum+val\n",
        "\n",
        "print(f\"The sum of the numbers in list is, {sum}\")"
      ],
      "execution_count": 25,
      "outputs": [
        {
          "output_type": "stream",
          "text": [
            "The sum of the numbers in list is, 43\n"
          ],
          "name": "stdout"
        }
      ]
    },
    {
      "cell_type": "code",
      "metadata": {
        "id": "GjPjlW-YeIno",
        "outputId": "3e80560b-afd9-4bb8-918d-079ef9660766",
        "colab": {
          "base_uri": "https://localhost:8080/",
          "height": 34
        }
      },
      "source": [
        "#Program to print special character using loop\n",
        "for i in range(1,10): #outer loop \n",
        "\tfor j in range(1, i): #inner loop\n",
        "\t\tprint( \"*\", end=' ')\n"
      ],
      "execution_count": 22,
      "outputs": [
        {
          "output_type": "stream",
          "text": [
            "* * * * * * * * * * * * * * * * * * * * * * * * * * * * * * * * * * * * "
          ],
          "name": "stdout"
        }
      ]
    },
    {
      "cell_type": "code",
      "metadata": {
        "id": "ka0YveiMh9sC",
        "outputId": "c5e8abde-406c-434d-fe8e-ae0f45e15be8",
        "colab": {
          "base_uri": "https://localhost:8080/",
          "height": 323
        }
      },
      "source": [
        "#Program to print special character in a peculiar design using loop\n",
        "for i in range(1,10): #outer loop for i=1(1st cycle)\n",
        "  for j in range(1,i): #inner loop j= range(1,1), hence peint \"*\"\n",
        "    print(\"*\",end=' ') # to print horixontally\n",
        "  print(\"\\n\") #new line after the inner loop ends\n"
      ],
      "execution_count": 23,
      "outputs": [
        {
          "output_type": "stream",
          "text": [
            "\n",
            "\n",
            "* \n",
            "\n",
            "* * \n",
            "\n",
            "* * * \n",
            "\n",
            "* * * * \n",
            "\n",
            "* * * * * \n",
            "\n",
            "* * * * * * \n",
            "\n",
            "* * * * * * * \n",
            "\n",
            "* * * * * * * * \n",
            "\n"
          ],
          "name": "stdout"
        }
      ]
    },
    {
      "cell_type": "markdown",
      "metadata": {
        "id": "Sgop4IsFnCqG"
      },
      "source": [
        "Note : Above two codes are similar with different indentation and hence the output is different."
      ]
    },
    {
      "cell_type": "code",
      "metadata": {
        "id": "JW3eolvtq0yr",
        "outputId": "e6dd666c-fd9d-4433-8518-3151d87e3aed",
        "colab": {
          "base_uri": "https://localhost:8080/",
          "height": 51
        }
      },
      "source": [
        "#program to print odd and even numbers in list sepeatly\n",
        "\n",
        "numlist = [1,2,3,4,5,6,7,8,9,10]\n",
        "\n",
        "evenlist=[] #variable to store the even no. list\n",
        "oddlist=[] #variable to store the odd no. list\n",
        "\n",
        "for i in numlist:\n",
        "  if i%2==0:\n",
        "    evenlist.append(i) #to add items in the list\n",
        "  else:\n",
        "    oddlist.append(i) #to add items in the list\n",
        "  i=i+1 #iteration of loop\n",
        "  \n",
        "print(evenlist)\n",
        "print(oddlist)"
      ],
      "execution_count": 46,
      "outputs": [
        {
          "output_type": "stream",
          "text": [
            "[2, 4, 6, 8, 10]\n",
            "[1, 3, 5, 7, 9]\n"
          ],
          "name": "stdout"
        }
      ]
    }
  ]
}