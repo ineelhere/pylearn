{
  "nbformat": 4,
  "nbformat_minor": 0,
  "metadata": {
    "colab": {
      "name": "hello_world_bhanu.ipynb",
      "provenance": []
    },
    "kernelspec": {
      "name": "python3",
      "display_name": "Python 3"
    },
    "language_info": {
      "name": "python"
    }
  },
  "cells": [
    {
      "cell_type": "markdown",
      "metadata": {
        "id": "Kj2HM0bKZP8S"
      },
      "source": [
        "### **Hello World!**\n",
        "\n",
        "Welcome to the world of Python. In this section, let's see how to print a simple statment using Python code. \n",
        "This is like  our way of saying \"Hey world, here I come!\" 😉  \n",
        "\n"
      ]
    },
    {
      "cell_type": "code",
      "metadata": {
        "id": "On60gL0ayCzt",
        "colab": {
          "base_uri": "https://localhost:8080/"
        },
        "outputId": "57bfdd6a-cb5f-4aab-d405-13927ab79e8a"
      },
      "source": [
        "print('Hello World!!')\n",
        "print('Get ready to rock-N-roll ')"
      ],
      "execution_count": 3,
      "outputs": [
        {
          "output_type": "stream",
          "name": "stdout",
          "text": [
            "Hello World!!\n",
            "Get ready to rock-N-roll \n"
          ]
        }
      ]
    },
    {
      "cell_type": "markdown",
      "metadata": {
        "id": "m8TnKRBSdHBe"
      },
      "source": [
        "### **What we saw?** 🙄 \n",
        " *The lines automatically got printed as two new lines.*\n",
        "### **Question(s)**  🙋🏻‍♂️ \n",
        " ❓ Should we type seperate print statements for all the sentences we want to    print??? 😨\n",
        "### **Answer(s)**\n",
        " 🔅 The answer is... NOOOO!!! \n",
        "   \n",
        "   😉 ***Visit the next section to find out how!!?***  😉 \n",
        "\n",
        " 💡 ✪ This simple statement in coding language is termed as a  \"**string**\".\n",
        "  \n",
        "  More about \"**string**\" as we dive into learning 🐬 😄 \n"
      ]
    },
    {
      "cell_type": "code",
      "metadata": {
        "id": "mWQrz3O0dKH_",
        "colab": {
          "base_uri": "https://localhost:8080/"
        },
        "outputId": "a9e20741-3b21-4b3f-86a2-d0dc2babd5ca"
      },
      "source": [
        "print('Hello World!! \\nGet ready to rock-N-roll')"
      ],
      "execution_count": 4,
      "outputs": [
        {
          "output_type": "stream",
          "name": "stdout",
          "text": [
            "Hello World!! \n",
            "Get ready to rock-N-roll\n"
          ]
        }
      ]
    },
    {
      "cell_type": "markdown",
      "metadata": {
        "id": "CwjHWS78td0x"
      },
      "source": [
        " ### **What we saw?** 🙄 \n",
        "We used a `\\n` in between  sentences and the lines got printed as two different  lines  AGAIN!!!  \n",
        " \n",
        " ### **Question(s)**  🙋🏻‍♂️ \n",
        " ❓ What is  `\\n`? \n",
        "\n",
        " ❓ Can we use `\\n` in between any two sentences  to print them seperately?\n",
        "\n",
        " ❓ Why is `\\n` not included in the output?\n",
        "\n",
        "\n",
        "### **Answer(s)**\n",
        "  🔅 `\\n` indicates a new line. \n",
        "\n",
        "  🔅 Yesss!  💯 \n",
        "\n",
        "  🔅 VERY GOOD QUESTION !!!!  The answer is because it ESCAPES!!!😉\n",
        "\n",
        " ![]( https://sayingimages.com/wp-content/uploads/jackie-chan-wait-what-meme.jpg)\n",
        "\n",
        "💡 ✪   An escape character is a **backslash** `\\` followed by any character\n",
        "In this case it is n which stands for a \"new line.\" \n",
        "\n",
        "💡 ✪  Checkout all other available escape characters like `\\t`, `\\b` and **HAVE FUN!!!**  😎 \n",
        "\n",
        "\n"
      ]
    }
  ]
}
