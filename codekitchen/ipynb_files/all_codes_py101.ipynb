{
 "cells": [
  {
   "cell_type": "markdown",
   "metadata": {
    "id": "qsixJ4m9-0RK"
   },
   "source": [
    "# **Hello, World!**\n",
    "Welcome to the world of python. In this section, we simply print a string using python code. You can say it's kind of a ritual/tradition for anyone who sets on a journey in coding with any language - our way of saying \"Hey world, here I come!\" 😉  "
   ]
  },
  {
   "cell_type": "code",
   "execution_count": 1,
   "metadata": {
    "id": "Isqsm-FG8nPA"
   },
   "outputs": [
    {
     "name": "stdout",
     "output_type": "stream",
     "text": [
      "Hello World!!\n",
      "Get ready to rock-N-roll \n"
     ]
    }
   ],
   "source": [
    "print('Hello World!!')\n",
    "print('Get ready to rock-N-roll ')"
   ]
  },
  {
   "cell_type": "code",
   "execution_count": 2,
   "metadata": {
    "id": "I6qehZ5o-bAI"
   },
   "outputs": [
    {
     "name": "stdout",
     "output_type": "stream",
     "text": [
      "Hello World!! \n",
      "Get ready to rock-N-roll\n"
     ]
    }
   ],
   "source": [
    "# we saw that the lines automatically shifted to new lines.\n",
    "# although we can do this manually too, in one print statement\n",
    "\n",
    "print('Hello World!! \\nGet ready to rock-N-roll')"
   ]
  },
  {
   "cell_type": "markdown",
   "metadata": {
    "id": "ZKekFvmPzxex"
   },
   "source": [
    "So what was that `\\n` ?\n",
    "\n",
    "Read this - https://qr.ae/pGSFo0"
   ]
  },
  {
   "cell_type": "markdown",
   "metadata": {
    "id": "k25sFg_I0ARy"
   },
   "source": [
    "# **Interact with python - get an input/data**\n",
    "To do some work, we need something to begin with - right? \n",
    "For example, you need a bat and a ball to play cricket. \n",
    "Similarly, while coding we need some data or input from the user on which we will do some work. "
   ]
  },
  {
   "cell_type": "code",
   "execution_count": 3,
   "metadata": {
    "id": "aJ7LO5RnD3We"
   },
   "outputs": [
    {
     "name": "stdout",
     "output_type": "stream",
     "text": [
      "Please enter your name - ineelhere\n",
      "Hello ineelhere\n"
     ]
    }
   ],
   "source": [
    "#asking user for a text (name)\n",
    "username = input('Please enter your name - ')\n",
    "\n",
    "#lets greet the user now\n",
    "print ('Hello ' +username)"
   ]
  },
  {
   "cell_type": "code",
   "execution_count": 4,
   "metadata": {
    "id": "fewe6Qde0ETu"
   },
   "outputs": [
    {
     "name": "stdout",
     "output_type": "stream",
     "text": [
      "Please enter your Birth Year - 2019\n"
     ]
    }
   ],
   "source": [
    "#OK so lets go one step ahead ;) -- just to give you a feel of what we can do with programming\n",
    "#now its time to help the user know his/her age\n",
    "\n",
    "#ask the user's birth year\n",
    "year = input('Please enter your Birth Year - ')"
   ]
  },
  {
   "cell_type": "code",
   "execution_count": 5,
   "metadata": {
    "id": "Jt6y6g0F0LLO"
   },
   "outputs": [
    {
     "name": "stdout",
     "output_type": "stream",
     "text": [
      "Hey ineelhere, You are 2 year(s) old :) \n"
     ]
    }
   ],
   "source": [
    "#calculating the age, here we have to change the type for year from string to integer\n",
    "age = 2021-int(year)\n",
    "\n",
    "#now we will print the results\n",
    "print(f'Hey {username}, You are {age} year(s) old :) ')"
   ]
  },
  {
   "cell_type": "markdown",
   "metadata": {
    "id": "GJ6cfW1K0YRG"
   },
   "source": [
    "\n",
    "* using `f` before writing the print statement saves us a lot of time and effort\n",
    "* just need to keep in mind that we are keeping the variables in `{}`\n",
    "* read more here - https://docs.python.org/3/tutorial/inputoutput.html"
   ]
  },
  {
   "cell_type": "markdown",
   "metadata": {
    "id": "-pn9j8AZ0sUD"
   },
   "source": [
    "# **Dealing with Numbers**\n",
    "So, in programming you can do lots of mathematical operations. But for that you need to have an idea of what are the various datatypes that are to be considered - or even not considered! This section will introduce with some of the possibilities and we'll cover the other complex stuff as we progress.\n",
    "\n",
    "You've got it. Keep going! 🙂  "
   ]
  },
  {
   "cell_type": "code",
   "execution_count": 6,
   "metadata": {
    "id": "LmPQiLof0Rkd"
   },
   "outputs": [
    {
     "name": "stdout",
     "output_type": "stream",
     "text": [
      "The datatype for variable 20 is <class 'int'>\n"
     ]
    }
   ],
   "source": [
    "# first let us understand the datatypes.\n",
    "\n",
    "# integer datatype\n",
    "print(f\"The datatype for variable 20 is {type(20)}\") # <class 'int'>"
   ]
  },
  {
   "cell_type": "code",
   "execution_count": 7,
   "metadata": {
    "id": "q4eJHcdv0yyZ"
   },
   "outputs": [
    {
     "name": "stdout",
     "output_type": "stream",
     "text": [
      "The datatype for variable 20.02 is <class 'float'>\n"
     ]
    }
   ],
   "source": [
    "# float datatype\n",
    "print(f\"The datatype for variable 20.02 is {type(20.02)}\") # <class 'float'>"
   ]
  },
  {
   "cell_type": "code",
   "execution_count": 8,
   "metadata": {
    "id": "V7qKGL5S02BN"
   },
   "outputs": [
    {
     "name": "stdout",
     "output_type": "stream",
     "text": [
      "The datatype for variable 'abcd efg hijk lmnop' is <class 'str'>\n"
     ]
    }
   ],
   "source": [
    "# string datatype\n",
    "print(f\"The datatype for variable 'abcd efg hijk lmnop' is {type('abcd efg hijk lmnop')}\") #<class 'str'>"
   ]
  },
  {
   "cell_type": "code",
   "execution_count": 9,
   "metadata": {
    "id": "81VFRBw505mD"
   },
   "outputs": [
    {
     "name": "stdout",
     "output_type": "stream",
     "text": [
      "0b11111100100\n",
      "2020\n"
     ]
    }
   ],
   "source": [
    "#get the binary for the number\n",
    "print(bin(2020)) #prints the binary form of 2020 which is 0b11111100100\n",
    "#get number(integer) from binary form\n",
    "print(int('0b11111100100', 2)) # 2 for printing the integer form by base as 2\n",
    "\n",
    "# ---------------- that would be enogh for now to understand about the datatypes."
   ]
  },
  {
   "cell_type": "code",
   "execution_count": 10,
   "metadata": {
    "id": "4hr6QRPu09Bl"
   },
   "outputs": [
    {
     "name": "stdout",
     "output_type": "stream",
     "text": [
      "Sum of 3 and 5 is 8\n",
      "difference of 3 and 5 is -2\n",
      "Product of 3 and 5 is 15\n",
      "Fraction or Division of 3 and 5 is 0.6\n",
      "exponent of 3 with 5 is 243\n",
      "Modulus of 3 and 5 is 3\n"
     ]
    }
   ],
   "source": [
    "# Let us now perform some arithmetic operations\n",
    "\n",
    "#arithmetic operations without variables\n",
    "print(f\"Sum of 3 and 5 is {3+5}\")\n",
    "print(f\"difference of 3 and 5 is {3-5}\")\n",
    "print(f\"Product of 3 and 5 is {3*5}\")\n",
    "print(f\"Fraction or Division of 3 and 5 is {3/5}\")\n",
    "print(f\"exponent of 3 with 5 is {3**5}\") #exponent\n",
    "print(f\"Modulus of 3 and 5 is {3%5}\")#mod"
   ]
  },
  {
   "cell_type": "code",
   "execution_count": 12,
   "metadata": {
    "id": "tyPG66Av0_ji"
   },
   "outputs": [
    {
     "name": "stdout",
     "output_type": "stream",
     "text": [
      "Enter a number. It will be stored as 'a' = 12\n",
      "Enter another number. It will be stored as 'b' = 3\n"
     ]
    }
   ],
   "source": [
    "#arithmetic operations with variables\n",
    "\n",
    "a = input(\"Enter a number. It will be stored as 'a' = \")\n",
    "b = input(\"Enter another number. It will be stored as 'b' = \")\n",
    "#python accepts inputs as str. So whenever we need to perform any mathematical operations, we need to change the datatypes"
   ]
  },
  {
   "cell_type": "code",
   "execution_count": 13,
   "metadata": {
    "id": "v7d2omO41Cvf"
   },
   "outputs": [
    {
     "name": "stdout",
     "output_type": "stream",
     "text": [
      "You see, I am writing here a+b but the output will not be the sum. \n",
      "Instead, you will see the two numbers will be concatenated! \n",
      "Here is the output = 123\n"
     ]
    }
   ],
   "source": [
    "print(f\"You see, I am writing here a+b but the output will not be the sum. \\nInstead, you will see the two numbers will be concatenated! \\nHere is the output = {a+b}\")"
   ]
  },
  {
   "cell_type": "code",
   "execution_count": 14,
   "metadata": {
    "id": "lUmw5Imz1I-t"
   },
   "outputs": [
    {
     "name": "stdout",
     "output_type": "stream",
     "text": [
      "Sum of 12.0 and 3.0 is 15.0\n",
      "difference of 12.0 and 3.0 is 9.0\n",
      "Product of 12.0 and 3.0 is 36.0\n",
      "Fraction or Division of 12.0 and 3.0 is 4.0\n",
      "exponent of 12.0 with 3.0 is 1728.0\n",
      "Modulus of 12.0 and 3.0 is 0.0\n"
     ]
    }
   ],
   "source": [
    "a = float(a) #keeping in float is safer as user might feed data with decimals\n",
    "b = float(b) #keeping in float is safer as user might feed data with decimals\n",
    "\n",
    "print(f\"Sum of {a} and {b} is {a+b}\")\n",
    "print(f\"difference of {a} and {b} is {a-b}\")\n",
    "print(f\"Product of {a} and {b} is {a*b}\")\n",
    "print(f\"Fraction or Division of {a} and {b} is {a/b}\")\n",
    "print(f\"exponent of {a} with {b} is {a**b}\") #exponent\n",
    "print(f\"Modulus of {a} and {b} is {a%b}\")#mod"
   ]
  },
  {
   "cell_type": "markdown",
   "metadata": {
    "id": "GhJmxImH1eEC"
   },
   "source": [
    "# **Math Functions in Python**\n",
    "To make our lives easier, there are many in-built special functions that are very useful to do specific tasks.\n",
    "Here we will see few of the in-built functions that can be used to perform mathematical operations.\n",
    "\n",
    "- first we need to import the math module. Read more here https://docs.python.org/3/library/math.html\n",
    "- This module provides access to the mathematical functions defined by the C standard.\n",
    "\n",
    "- These functions cannot be used with complex numbers; use the functions of the same name from the cmath module if you require support for complex numbers. The distinction between functions which support complex numbers and those which don’t is made since most users do not want to learn quite as much mathematics as required to understand complex numbers. Receiving an exception instead of a complex result allows earlier detection of the unexpected complex number used as a parameter, so that the programmer can determine how and why it was generated in the first place.\n",
    "\n",
    "- The following functions are provided by this module. Except when explicitly noted otherwise, all return values are floats."
   ]
  },
  {
   "cell_type": "code",
   "execution_count": 15,
   "metadata": {
    "id": "7JR4ndtG1Ogc"
   },
   "outputs": [],
   "source": [
    "#importing the module\n",
    "import  math"
   ]
  },
  {
   "cell_type": "code",
   "execution_count": 16,
   "metadata": {
    "id": "hE11OS5O17Gu"
   },
   "outputs": [
    {
     "name": "stdout",
     "output_type": "stream",
     "text": [
      "\n",
      "math.ceil(x)\n",
      "Return the ceiling of x, the smallest integer greater than or equal to x.\n",
      "If x is not a float, delegates to x.__ceil__(), which should return an Integral value.\n",
      "\n"
     ]
    }
   ],
   "source": [
    "# --------------Number-theoretic and representation functions--------------------------------------\n",
    "long_string = '''\n",
    "math.ceil(x)\n",
    "Return the ceiling of x, the smallest integer greater than or equal to x.\n",
    "If x is not a float, delegates to x.__ceil__(), which should return an Integral value.\n",
    "'''\n",
    "print(long_string)"
   ]
  },
  {
   "cell_type": "code",
   "execution_count": 17,
   "metadata": {
    "id": "EVisqGAS19no"
   },
   "outputs": [
    {
     "name": "stdout",
     "output_type": "stream",
     "text": [
      "\n",
      "--------------------math.ceil(x)-------------------------------\n",
      "math.ceil(x) --- for number = 404 --- 404\n",
      "math.ceil(x) --- for number = 404.01 --- 405\n",
      "math.ceil(x) --- for number = 404.36 --- 405\n",
      "math.ceil(x) --- for number = 404.50 --- 405\n",
      "math.ceil(x) --- for number = 404.86 --- 405\n",
      "---------------------------------------------------------------\n",
      "\n"
     ]
    }
   ],
   "source": [
    "print(\"\\n--------------------math.ceil(x)-------------------------------\")\n",
    "print(f\"math.ceil(x) --- for number = 404 --- {math.ceil(404)}\")\n",
    "print(f\"math.ceil(x) --- for number = 404.01 --- {math.ceil(404.01)}\")\n",
    "print(f\"math.ceil(x) --- for number = 404.36 --- {math.ceil(404.36)}\")\n",
    "print(f\"math.ceil(x) --- for number = 404.50 --- {math.ceil(404.50)}\")\n",
    "print(f\"math.ceil(x) --- for number = 404.86 --- {math.ceil(404.86)}\")\n",
    "print(\"---------------------------------------------------------------\\n\")"
   ]
  },
  {
   "cell_type": "code",
   "execution_count": 18,
   "metadata": {
    "id": "_NXbuYab2A7x"
   },
   "outputs": [
    {
     "name": "stdout",
     "output_type": "stream",
     "text": [
      "\n",
      "math.comb(n, k)\n",
      "Return the number of ways to choose k items from n items without repetition and without order.\n",
      "Evaluates to n! / (k! * (n - k)!) when k <= n and evaluates to zero when k > n.\n",
      "Also called the binomial coefficient because it is equivalent to the coefficient of k-th term in polynomial expansion of the expression (1 + x) ** n.\n",
      "Raises TypeError if either of the arguments are not integers. Raises ValueError if either of the arguments are negative.\n",
      "\n"
     ]
    }
   ],
   "source": [
    "long_string = '''\n",
    "math.comb(n, k)\n",
    "Return the number of ways to choose k items from n items without repetition and without order.\n",
    "Evaluates to n! / (k! * (n - k)!) when k <= n and evaluates to zero when k > n.\n",
    "Also called the binomial coefficient because it is equivalent to the coefficient of k-th term in polynomial expansion of the expression (1 + x) ** n.\n",
    "Raises TypeError if either of the arguments are not integers. Raises ValueError if either of the arguments are negative.\n",
    "'''\n",
    "print(long_string)"
   ]
  },
  {
   "cell_type": "markdown",
   "metadata": {
    "id": "d6B8icHo2SJd"
   },
   "source": [
    "Explore more here - https://www.programiz.com/python-programming/modules/math\n",
    "\n",
    "# **Strings in Python**\n",
    "Here we will see how to handle strings in python.\n",
    "When we deal with data, we mostly deal with strings - which we then reformat according to our choices.\n",
    "So, it is important that we deal properly with the strings such that we don't loose data"
   ]
  },
  {
   "cell_type": "code",
   "execution_count": 19,
   "metadata": {
    "id": "feubV4Cw2HPQ"
   },
   "outputs": [
    {
     "name": "stdout",
     "output_type": "stream",
     "text": [
      "\n",
      "Hello there!\n",
      "We are currently creating a long string.\n",
      "Write multiple lines here,\n",
      "without any worries. B-)\n",
      "\n"
     ]
    }
   ],
   "source": [
    "# write a long string (multiple lines without using \\n)\n",
    "long_string = '''\n",
    "Hello there!\n",
    "We are currently creating a long string.\n",
    "Write multiple lines here,\n",
    "without any worries. B-)\n",
    "'''\n",
    "print(long_string)"
   ]
  },
  {
   "cell_type": "code",
   "execution_count": 20,
   "metadata": {
    "id": "Bcb2GydU2hB-"
   },
   "outputs": [
    {
     "name": "stdout",
     "output_type": "stream",
     "text": [
      "See, we are writing \" in  a print statement without any worries!\n",
      "Isn't it awesome??\n"
     ]
    }
   ],
   "source": [
    "#using escape sequences\n",
    "\n",
    "    #it's difficult to insert a special character in a string or print statement.\n",
    "    #so, we use \\ as our saviour!\n",
    "print(\"See, we are writing \\\" in  a print statement without any worries!\")\n",
    "print('Isn\\'t it awesome??')"
   ]
  },
  {
   "cell_type": "code",
   "execution_count": 21,
   "metadata": {
    "id": "Zp7dF1532kjT"
   },
   "outputs": [
    {
     "name": "stdout",
     "output_type": "stream",
     "text": [
      "This is the first line \n",
      "This is the second line\n"
     ]
    }
   ],
   "source": [
    "#newline\n",
    "print(\"This is the first line \\nThis is the second line\")"
   ]
  },
  {
   "cell_type": "code",
   "execution_count": 22,
   "metadata": {
    "id": "e8YW2jg12nBu"
   },
   "outputs": [
    {
     "name": "stdout",
     "output_type": "stream",
     "text": [
      "This is an incomplete li\bne\n"
     ]
    }
   ],
   "source": [
    "#backspace\n",
    "print(\"This is an incomplete li\\bne\")"
   ]
  },
  {
   "cell_type": "code",
   "execution_count": 23,
   "metadata": {
    "id": "DFv7X0Gz20Ao"
   },
   "outputs": [
    {
     "name": "stdout",
     "output_type": "stream",
     "text": [
      "Here comes the tab\tGot that??\n"
     ]
    }
   ],
   "source": [
    "#horizontal tab\n",
    "print(\"Here comes the tab\\tGot that??\")"
   ]
  },
  {
   "cell_type": "code",
   "execution_count": 24,
   "metadata": {
    "id": "M1bxruLx23oy"
   },
   "outputs": [
    {
     "name": "stdout",
     "output_type": "stream",
     "text": [
      "So, here is the \\ you wanted to see!\n"
     ]
    }
   ],
   "source": [
    "#print a backslash itself\n",
    "print(\"So, here is the \\\\ you wanted to see!\")"
   ]
  },
  {
   "cell_type": "code",
   "execution_count": 25,
   "metadata": {
    "id": "TTwHRgk529o2"
   },
   "outputs": [
    {
     "name": "stdout",
     "output_type": "stream",
     "text": [
      "This code was written in the year 2020\n",
      "After 10 years it will be the year 2030\n",
      "The code is written in the year 2020\n",
      "After 10 years it will be the year 2030\n"
     ]
    }
   ],
   "source": [
    "#formating a string (we have already seen this before, now it is time to realize it !!)\n",
    "a = 2020\n",
    "print(\"This code was written in the year \"+str(a)) #here the number is printed in form of a string otherwise it throws an error\n",
    "                                                    #TypeError: can only concatenate str (not \"int\") to str\n",
    "print(\"After 10 years it will be the year \"+str(a+10)) #same explanation as above\n",
    "#now let us use a shortcut\n",
    "print(f\"The code is written in the year {a}\") #see, how simple it is to format a string!!\n",
    "print(f\"After 10 years it will be the year {a+10}\")"
   ]
  },
  {
   "cell_type": "code",
   "execution_count": 26,
   "metadata": {
    "id": "ZN70LDBP2_tC"
   },
   "outputs": [
    {
     "name": "stdout",
     "output_type": "stream",
     "text": [
      "Climate change is real!\n",
      "limate ch\n",
      "Climate ch\n",
      "Climate ch\n",
      "Climate change is real!\n",
      "!\n",
      "a\n",
      "!laer si egnahc etamilC\n"
     ]
    }
   ],
   "source": [
    "#how to get a string index\n",
    "text = \"Climate change is real!\"\n",
    "print(text)\n",
    "print(text[1:10]) #counting starts from 0\n",
    "print(text[0:10]) #now see the difference\n",
    "print(text[:10]) #prints first 10 elements\n",
    "print(text[::]) #prints Everything\n",
    "print(text[-1]) #first element starting from the end of the string\n",
    "print(text[-3]) #third element starting from the end of the string\n",
    "print(text[::-1]) #prints in reverse order"
   ]
  },
  {
   "cell_type": "markdown",
   "metadata": {
    "id": "7bBeAqhA3GC0"
   },
   "source": [
    "* There are many more things to know about strings. \n",
    "* You are welcome to add anything relevant you wish to in this notebook!\n",
    "* Please collaborate and contribute :)\n",
    "\n",
    "# **String functions in Python**\n",
    "Just like we used the math-functions above, this is also quite similar. But here you wouldn't have to import a module.\n",
    "Follow the code below (let the code do the talking!)\n",
    "Note: This section discusses one of the functions to get you started. There are many more available. Just Google them!\n",
    "\n",
    "Reference - https://www.w3schools.com/python/python_ref_string.asp"
   ]
  },
  {
   "cell_type": "code",
   "execution_count": 27,
   "metadata": {
    "id": "bi0sVF3E3CM4"
   },
   "outputs": [
    {
     "name": "stdout",
     "output_type": "stream",
     "text": [
      "\n",
      "capitalize() Converts the first character to upper case \n",
      "\n",
      "Original string = lights WILL guide YOU home\n",
      " \n",
      "Result string = Lights will guide you home\n",
      "\n"
     ]
    }
   ],
   "source": [
    "mystring = 'lights WILL guide YOU home\\n'\n",
    "\n",
    "# capitalize()\tConverts the first character to upper case\n",
    "print(f\"\\ncapitalize() Converts the first character to upper case \\n\\nOriginal string = {mystring} \\nResult string = {mystring.capitalize()}\")"
   ]
  },
  {
   "cell_type": "code",
   "execution_count": 28,
   "metadata": {
    "id": "sful6gZm3tTB"
   },
   "outputs": [
    {
     "name": "stdout",
     "output_type": "stream",
     "text": [
      "\n",
      "casefold() Converts string into lower case\n",
      "\n",
      "Original string = lights WILL guide YOU home\n",
      " \n",
      "Result string = lights will guide you home\n",
      "\n"
     ]
    }
   ],
   "source": [
    "# casefold()\tConverts string into lower case\n",
    "print(f\"\\ncasefold() Converts string into lower case\\n\\nOriginal string = {mystring} \\nResult string = {mystring.casefold()}\")"
   ]
  },
  {
   "cell_type": "code",
   "execution_count": 29,
   "metadata": {
    "id": "wmizrMS63yM4"
   },
   "outputs": [
    {
     "name": "stdout",
     "output_type": "stream",
     "text": [
      "\n",
      "center() Returns a centered string\n",
      "\n",
      "Original string = banana \n"
     ]
    }
   ],
   "source": [
    "# center()\tReturns a centered string\n",
    "temp = \"banana\"\n",
    "print(f\"\\ncenter() Returns a centered string\\n\\nOriginal string = {temp} \")"
   ]
  },
  {
   "cell_type": "code",
   "execution_count": 30,
   "metadata": {
    "id": "Nh03w75d32Zg"
   },
   "outputs": [
    {
     "name": "stdout",
     "output_type": "stream",
     "text": [
      "\n",
      "Result string = 0000000banana0000000\n"
     ]
    }
   ],
   "source": [
    "temp = temp.center(20, \"0\")\n",
    "print(f\"\\nResult string = {temp}\")"
   ]
  },
  {
   "cell_type": "markdown",
   "metadata": {
    "id": "pVSsAi1v4Pmu"
   },
   "source": [
    "# **Lists in Python**\n",
    "Python has several features which are used in all sorts of programming endeavors. One of them is a \"list\".\n",
    "Like always,  Follow the code below (let the code do the talking!)\n",
    "\n",
    "This set of codes has been generously contributed by **Mr. Bittesh Barman.**\n",
    "\n",
    "Mr. Bittesh is a **PhD student at the Department of Chemistry, Pondicherry University, India**.  <br>\n",
    "Visit this URL to view his works - https://www.researchgate.net/profile/Bittesh-Barman-2  <br>\n",
    "Thank you!"
   ]
  },
  {
   "cell_type": "code",
   "execution_count": 31,
   "metadata": {
    "id": "pQOow4Zl3439"
   },
   "outputs": [
    {
     "name": "stdout",
     "output_type": "stream",
     "text": [
      "['honda', 'hundai', 'tata']\n",
      "honda\n",
      "tata\n"
     ]
    }
   ],
   "source": [
    "# Working with Lists!\n",
    "\n",
    "cars = [\"honda\",\"hundai\",\"tata\"] # this is a list type data structure. each elements in list is called item. \n",
    "print(cars)\n",
    "print(cars[0])# we can call any item in this list by its index no.\n",
    "print(cars[2])"
   ]
  },
  {
   "cell_type": "code",
   "execution_count": 32,
   "metadata": {
    "id": "sHmqQ2Tu5S0j"
   },
   "outputs": [
    {
     "name": "stdout",
     "output_type": "stream",
     "text": [
      "['Pencil', 'notebook', 'book']\n",
      "['pen', 'notebook', 'book']\n"
     ]
    }
   ],
   "source": [
    "# Changing items in a list\n",
    "\n",
    "shoping_cart = [\"Pencil\", \"notebook\",\"book\"]\n",
    "print(shoping_cart)\n",
    "shoping_cart[0] = \"pen\" # we can change item by using the index no.\n",
    "print(shoping_cart)"
   ]
  },
  {
   "cell_type": "code",
   "execution_count": 33,
   "metadata": {
    "id": "gUUQeJy25VOV"
   },
   "outputs": [
    {
     "name": "stdout",
     "output_type": "stream",
     "text": [
      "['banana', 'orange', 'watermelon', 'grapes']\n"
     ]
    }
   ],
   "source": [
    "#Appending to a list\n",
    "\n",
    "fruits = ['banana','orange','watermelon']\n",
    "fruits.append('grapes') # we can add items in list using append method. \n",
    "print(fruits)"
   ]
  },
  {
   "cell_type": "code",
   "execution_count": 34,
   "metadata": {
    "id": "2eHKsALW5XkM"
   },
   "outputs": [
    {
     "name": "stdout",
     "output_type": "stream",
     "text": [
      "['pan', 'assult rifle', 'shotgun', 'sniper', 'pistol']\n"
     ]
    }
   ],
   "source": [
    "# The 'insert()' method!\n",
    "\n",
    "weapons = ['pan', 'assult rifle', 'shotgun', 'pistol']\n",
    "weapons.insert(3, 'sniper') # we can add item in any position of  the list by using insert method.\n",
    "print(weapons)"
   ]
  },
  {
   "cell_type": "markdown",
   "metadata": {
    "id": "m4C7L9GC5ckm"
   },
   "source": [
    "# **Tuples in Python**\n",
    "A tuple is a sequence of immutable (meaning unchanging over time or unable to be changed) Python objects. \n",
    "Follow the code below (let the code do the talking!)"
   ]
  },
  {
   "cell_type": "code",
   "execution_count": 35,
   "metadata": {
    "id": "lDVUSq8X5Z98"
   },
   "outputs": [
    {
     "data": {
      "text/plain": [
       "('India', 'Japan', 100, 90, 85674)"
      ]
     },
     "execution_count": 35,
     "metadata": {},
     "output_type": "execute_result"
    }
   ],
   "source": [
    "#defining a tuple\n",
    "tuple_1 = ('India', 'Japan', 100, 90, 85674);\n",
    "tuple_1"
   ]
  },
  {
   "cell_type": "markdown",
   "metadata": {
    "id": "kZeYAhRJ5nJ6"
   },
   "source": [
    "Please note that in defining a tuple, a semicolon is used! (not mandatory though). <br>\n",
    "So those python memes donot hold TRUE here 😉"
   ]
  },
  {
   "cell_type": "code",
   "execution_count": 36,
   "metadata": {
    "id": "w6fUplgC5kgJ"
   },
   "outputs": [
    {
     "data": {
      "text/plain": [
       "5"
      ]
     },
     "execution_count": 36,
     "metadata": {},
     "output_type": "execute_result"
    }
   ],
   "source": [
    "#size of the tuple\n",
    "len(tuple_1)"
   ]
  },
  {
   "cell_type": "markdown",
   "metadata": {
    "id": "ucxRdP8n6Fo9"
   },
   "source": [
    "The size is 5 but if we see the index, it starts with 0. <br>\n",
    "Let's have a look here\n",
    "\n"
   ]
  },
  {
   "cell_type": "code",
   "execution_count": 37,
   "metadata": {
    "id": "bN1wCbba6BJt"
   },
   "outputs": [
    {
     "name": "stdout",
     "output_type": "stream",
     "text": [
      "The first element - India\n",
      "The second element - Japan\n",
      "The last element - 85674 \n"
     ]
    }
   ],
   "source": [
    "#Accessing elements inside the tuple\n",
    "print(f\"The first element - {tuple_1[0]}\\nThe second element - {tuple_1[1]}\\nThe last element - {tuple_1[len(tuple_1)-1]} \")"
   ]
  },
  {
   "cell_type": "markdown",
   "metadata": {
    "id": "rqBBzDNb6QZw"
   },
   "source": [
    "The last element was obtained by using the last index via the code `tuple_1[len(tuple_1)-1]` <br>\n",
    "Just for fun!\n",
    "\n",
    "**CAUTION - Tuples are immutable**\n",
    "\n",
    "So, if we write `tuple_1[0] = some value` we will get an error!"
   ]
  },
  {
   "cell_type": "markdown",
   "metadata": {
    "id": "BDbBMJJE6sGh"
   },
   "source": [
    "# **Dictionaries in Python**\n",
    "Dictionaries store elements in a key-value pair format. Dictionary elements are accessed via keys while List elements are accessed by their index. \n",
    "Follow the code below (let the code do the talking!)"
   ]
  },
  {
   "cell_type": "code",
   "execution_count": 38,
   "metadata": {
    "id": "Bkd2fSQC6Ey6"
   },
   "outputs": [
    {
     "data": {
      "text/plain": [
       "{'Country': 'India',\n",
       " 'Currency': 'INR',\n",
       " 'Continent': 'Asia',\n",
       " 'Language': 'Multiple'}"
      ]
     },
     "execution_count": 38,
     "metadata": {},
     "output_type": "execute_result"
    }
   ],
   "source": [
    "#definig a dictionary\n",
    "dy = { \"Country\": \"India\",\n",
    "         \"Currency\": \"INR\",\n",
    "         \"Continent\": \"Asia\",\n",
    "            \"Language\": \"Multiple\"}\n",
    "dy"
   ]
  },
  {
   "cell_type": "code",
   "execution_count": 39,
   "metadata": {
    "id": "1xBBuQaE7yeB"
   },
   "outputs": [
    {
     "data": {
      "text/plain": [
       "'India'"
      ]
     },
     "execution_count": 39,
     "metadata": {},
     "output_type": "execute_result"
    }
   ],
   "source": [
    "#Access a dictionary (using the key and not the value)\n",
    "dy[\"Country\"]"
   ]
  },
  {
   "cell_type": "markdown",
   "metadata": {
    "id": "XLMBm6Ef9zQf"
   },
   "source": [
    "Try this - `dy[\"India\"]`  <br>\n",
    "You will get an error. We need to use the key to access a specific value!"
   ]
  },
  {
   "cell_type": "code",
   "execution_count": 40,
   "metadata": {
    "id": "n0kwdRyw7-md"
   },
   "outputs": [
    {
     "data": {
      "text/plain": [
       "{'Country': 'India',\n",
       " 'Currency': 'INR',\n",
       " 'Continent': 'Asia',\n",
       " 'Language': 'Multiple',\n",
       " 'Capital': 'Delhi'}"
      ]
     },
     "execution_count": 40,
     "metadata": {},
     "output_type": "execute_result"
    }
   ],
   "source": [
    "#adding data to dictionary\n",
    "dy[\"Capital\"] = \"Delhi\"\n",
    "dy"
   ]
  },
  {
   "cell_type": "code",
   "execution_count": 41,
   "metadata": {
    "id": "SRToFtGP-LE2"
   },
   "outputs": [
    {
     "data": {
      "text/plain": [
       "{'Country': 'India',\n",
       " 'Currency': 'Indian Rupee',\n",
       " 'Continent': 'Asia',\n",
       " 'Language': 'Multiple',\n",
       " 'Capital': 'Delhi'}"
      ]
     },
     "execution_count": 41,
     "metadata": {},
     "output_type": "execute_result"
    }
   ],
   "source": [
    "# We can Overwrite dictionary values too\n",
    "\n",
    "dy[\"Currency\"] = \"Indian Rupee\"\n",
    "dy"
   ]
  },
  {
   "cell_type": "code",
   "execution_count": 42,
   "metadata": {
    "id": "6WHtFRfA-Xu3"
   },
   "outputs": [
    {
     "data": {
      "text/plain": [
       "{'Country': 'India',\n",
       " 'Currency': 'Indian Rupee',\n",
       " 'Continent': 'Asia',\n",
       " 'Capital': 'Delhi'}"
      ]
     },
     "execution_count": 42,
     "metadata": {},
     "output_type": "execute_result"
    }
   ],
   "source": [
    "# Deleting data in dictionary\n",
    "\n",
    "del dy[\"Language\"]\n",
    "dy"
   ]
  },
  {
   "cell_type": "markdown",
   "metadata": {
    "id": "z_dOCS7s-uHK"
   },
   "source": [
    "So the Currency key was deleted. <br>\n",
    "Now let us delete the whole dictionary"
   ]
  },
  {
   "cell_type": "code",
   "execution_count": 43,
   "metadata": {
    "id": "2jWQT852-ptH"
   },
   "outputs": [],
   "source": [
    "del dy\n",
    "#done"
   ]
  },
  {
   "cell_type": "markdown",
   "metadata": {
    "id": "YHWyLLs3_lRN"
   },
   "source": [
    "# **Comparison Operators**\n",
    "Used to compare 2 or more values and decide if the condition is True or False <br>\n",
    "Follow the code below (let the code do the talking!)\n",
    "\n",
    "Let us consider a random variable 'x' with a random numerical value stored in it. <br>\n",
    "Following is how we can compare the value stored in 'x' with other numerical entities.\n",
    "\n",
    "- Equals: x == 5\n",
    "- Not equal: x != 5\n",
    "- Greater than: x > 5\n",
    "- Greater than or equal: x >= 5\n",
    "- Less than: x < 5\n",
    "- Less than or equal: to x <= 5\n",
    "\n",
    "The outcome is always in the form of \"True\" or \"False\" - Boolean"
   ]
  },
  {
   "cell_type": "code",
   "execution_count": 44,
   "metadata": {
    "id": "O43zmr-3-6Ee"
   },
   "outputs": [
    {
     "name": "stdout",
     "output_type": "stream",
     "text": [
      "False\n"
     ]
    }
   ],
   "source": [
    "# let us declare a variable with a numerical value\n",
    "x = 1001\n",
    "\n",
    "print(x==5)"
   ]
  },
  {
   "cell_type": "code",
   "execution_count": 45,
   "metadata": {
    "id": "6aYgdl0k_-MP"
   },
   "outputs": [
    {
     "name": "stdout",
     "output_type": "stream",
     "text": [
      "True\n"
     ]
    }
   ],
   "source": [
    "print(x!=5)"
   ]
  },
  {
   "cell_type": "code",
   "execution_count": 46,
   "metadata": {
    "id": "cFAL5aQJADFu"
   },
   "outputs": [
    {
     "name": "stdout",
     "output_type": "stream",
     "text": [
      "True\n"
     ]
    }
   ],
   "source": [
    "print(x > 5)"
   ]
  },
  {
   "cell_type": "code",
   "execution_count": 47,
   "metadata": {
    "id": "aKQpzROkAGSG"
   },
   "outputs": [
    {
     "name": "stdout",
     "output_type": "stream",
     "text": [
      "True\n"
     ]
    }
   ],
   "source": [
    "print(x >= 5)"
   ]
  },
  {
   "cell_type": "code",
   "execution_count": 48,
   "metadata": {
    "id": "DPUCN7USALD_"
   },
   "outputs": [
    {
     "name": "stdout",
     "output_type": "stream",
     "text": [
      "False\n"
     ]
    }
   ],
   "source": [
    "print( x < 5)"
   ]
  },
  {
   "cell_type": "code",
   "execution_count": 49,
   "metadata": {
    "id": "tN9AEdxPAOkw"
   },
   "outputs": [
    {
     "name": "stdout",
     "output_type": "stream",
     "text": [
      "False\n"
     ]
    }
   ],
   "source": [
    "print( x <= 5)"
   ]
  },
  {
   "cell_type": "markdown",
   "metadata": {
    "id": "7jK0Wev-ASxZ"
   },
   "source": [
    "Now that we know how these work, we can proceed to use them for decision making.\n",
    "ie, **If-else statements**\n",
    "\n",
    "# **Conditional Statements (IF-ELSE)**\n",
    "Think of this scenario - if I score at least 40% in the exam, I will pass, else I will fail.<br>\n",
    "So, here the condition for me passing the exam is to reach the 40% mark which can be expressed as \">=\" (didn't understand? Study the previous section!) . <br>Now, it just has to be conveyed to the computer and here's how it is done!<br>\n",
    "Follow the code below (let the code do the talking!)\n",
    "\n",
    "- It is basically the If - else statement\n",
    "- If statement is generally followed by an optional else statement\n",
    "- The results are always in Boolean\n",
    "- else statement works if the if statement returns a FALSE expression."
   ]
  },
  {
   "cell_type": "code",
   "execution_count": 50,
   "metadata": {
    "id": "mNmuboXIAPNJ"
   },
   "outputs": [
    {
     "name": "stdout",
     "output_type": "stream",
     "text": [
      "Enter your marks39.999\n",
      "Well, it didn't work this time. But you can do it. Please don't give up.\n"
     ]
    }
   ],
   "source": [
    "pass_marks = float(input(\"Enter your marks\"))\n",
    "if pass_marks>=40.0:\n",
    "    print(\"You passed the exam.\")\n",
    "else:\n",
    "    print(\"Well, it didn't work this time. But you can do it. Please don't give up.\")"
   ]
  },
  {
   "cell_type": "code",
   "execution_count": 51,
   "metadata": {
    "id": "oqaPYf9fA0g-"
   },
   "outputs": [
    {
     "name": "stdout",
     "output_type": "stream",
     "text": [
      "Enter your marks40.001\n",
      "You passed the exam.\n"
     ]
    }
   ],
   "source": [
    "pass_marks = float(input(\"Enter your marks\"))\n",
    "if pass_marks>=40.0:\n",
    "    print(\"You passed the exam.\")\n",
    "else:\n",
    "    print(\"Well, it didn't work this time. But you can do it. Please don't give up.\")"
   ]
  },
  {
   "cell_type": "markdown",
   "metadata": {
    "id": "vA_R2FCLBAoO"
   },
   "source": [
    "So, that's how we deal with the if-else statements in python.<br>\n",
    "Note: **Always remember to take care of the indentation!**\n",
    "\n",
    "# **Nested or Multiple IF-ELSE (also called ELIF)??**\n",
    "Sometimes, we need to put up multiple conditions for an event to happen. For that, we use IF-ELSE statements multiple times.<br>\n",
    "So, this is how we do it in python!\n",
    "\n",
    "\n",
    "**Multiple if-else**\n",
    "<br>Let us consider that the criteria to get a job interview is atleast 8.0 <br>CGPA and at least 2 years of experience.<br>\n",
    "So following would be the way to deal with the situation\n",
    "\n",
    "*Note - I'm sad that individuals get judged like this. Skills matter. Not numbers.*"
   ]
  },
  {
   "cell_type": "code",
   "execution_count": 52,
   "metadata": {
    "id": "bZzalvKxA65M"
   },
   "outputs": [
    {
     "name": "stdout",
     "output_type": "stream",
     "text": [
      "what is your CGPA out of 10.0?8\n",
      "how many years of experience do you have?1\n",
      "Sorry, although you have at least 8.0 GPA, you lack a minimum experience of 2 years.\n"
     ]
    }
   ],
   "source": [
    "cgpa = float(input(\"what is your CGPA out of 10.0?\"))\n",
    "if cgpa >=8.0:\n",
    "    experience = float(input(\"how many years of experience do you have?\"))\n",
    "    if experience>=2.0:\n",
    "        print(\"You are eligible for an interview\")\n",
    "    else:\n",
    "        print(\"Sorry, although you have at least 8.0 GPA, you lack a minimum experience of 2 years.\")\n",
    "else:\n",
    "    print(\"Sorry, you need minimum 8.0 CGPA to be eligible\")"
   ]
  },
  {
   "cell_type": "code",
   "execution_count": 53,
   "metadata": {
    "id": "TW_mcE4QCHZn"
   },
   "outputs": [
    {
     "name": "stdout",
     "output_type": "stream",
     "text": [
      "what is your CGPA out of 10.0?4\n",
      "Sorry, you need minimum 8.0 CGPA to be eligible\n"
     ]
    }
   ],
   "source": [
    "cgpa = float(input(\"what is your CGPA out of 10.0?\"))\n",
    "if cgpa >=8.0:\n",
    "    experience = float(input(\"how many years of experience do you have?\"))\n",
    "    if experience>=2.0:\n",
    "        print(\"You are eligible for an interview\")\n",
    "    else:\n",
    "        print(\"Sorry, although you have at least 8.0 GPA, you lack a minimum experience of 2 years.\")\n",
    "else:\n",
    "    print(\"Sorry, you need minimum 8.0 CGPA to be eligible\")"
   ]
  },
  {
   "cell_type": "code",
   "execution_count": 54,
   "metadata": {
    "id": "XaDGThmfCXNs"
   },
   "outputs": [
    {
     "name": "stdout",
     "output_type": "stream",
     "text": [
      "what is your CGPA out of 10.0?10\n",
      "how many years of experience do you have?100\n",
      "You are eligible for an interview\n"
     ]
    }
   ],
   "source": [
    "cgpa = float(input(\"what is your CGPA out of 10.0?\"))\n",
    "if cgpa >=8.0:\n",
    "    experience = float(input(\"how many years of experience do you have?\"))\n",
    "    if experience>=2.0:\n",
    "        print(\"You are eligible for an interview\")\n",
    "    else:\n",
    "        print(\"Sorry, although you have at least 8.0 GPA, you lack a minimum experience of 2 years.\")\n",
    "else:\n",
    "    print(\"Sorry, you need minimum 8.0 CGPA to be eligible\")"
   ]
  },
  {
   "cell_type": "markdown",
   "metadata": {
    "id": "4crG4o5FC3dE"
   },
   "source": [
    "**The elif statement**\n",
    "\n",
    "Let us just write a simple code where the user enters a number from 1 to 5 and the code prints the number in words.\n",
    "\n"
   ]
  },
  {
   "cell_type": "code",
   "execution_count": 55,
   "metadata": {
    "id": "FqpPGYrICvIw"
   },
   "outputs": [
    {
     "name": "stdout",
     "output_type": "stream",
     "text": [
      "Enter a number between 1 to 5 - 4\n",
      "Four\n"
     ]
    }
   ],
   "source": [
    "num = int(input(\"Enter a number between 1 to 5 - \"))\n",
    "if num == 1:\n",
    "    print('One')\n",
    "elif num == 2:\n",
    "    print('Two')\n",
    "elif num==3:\n",
    "    print('Three')\n",
    "elif num==4:\n",
    "    print(\"Four\")\n",
    "else:\n",
    "    print(\"Five\")"
   ]
  },
  {
   "cell_type": "code",
   "execution_count": 56,
   "metadata": {
    "id": "bvTFyR_dC-tC"
   },
   "outputs": [
    {
     "name": "stdout",
     "output_type": "stream",
     "text": [
      "Enter a number between 1 to 5 - 2\n",
      "Two\n"
     ]
    }
   ],
   "source": [
    "num = int(input(\"Enter a number between 1 to 5 - \"))\n",
    "if num == 1:\n",
    "    print('One')\n",
    "elif num == 2:\n",
    "    print('Two')\n",
    "elif num==3:\n",
    "    print('Three')\n",
    "elif num==4:\n",
    "    print(\"Four\")\n",
    "else:\n",
    "    print(\"Five\")"
   ]
  },
  {
   "cell_type": "markdown",
   "metadata": {
    "id": "jdVeRFSQDK2s"
   },
   "source": [
    "...and  we can keep going like this.<br>\n",
    "**So, basically the elif statement is nothing but an if statement after an else statement.**"
   ]
  },
  {
   "cell_type": "markdown",
   "metadata": {
    "id": "oqVhonCEDYnd"
   },
   "source": [
    "# **Loops in python**\n",
    "\n",
    "Generally, in a program, statements are executed line by line, it means sequentially, but when a block of code needs to be executed multiple times, then what to do? Programming languages comes with that provision also, using loops.\n",
    "\n",
    "Python supports two types of loop\n",
    "\n",
    "* while loop\n",
    "* for loop\n",
    "\n",
    "This set of codes has been generously contributed by **Mr. Tapas Saha**. <br>\n",
    "Mr. Tapas is a **PhD student at the Department of Computer Science & Engineering, Tezpur University, India**.<br>\n",
    " Visit this URL to view his works - https://www.researchgate.net/profile/Tapas-Saha-3 \n",
    "<br>Thank you!\n",
    "\n",
    "\n",
    "**While Loop** <br>\n",
    "While loop allows the user, to execute a group of statements repeatedly, but it checks the condition before entering the loop body.<br>The repetitions will continue until the condition false.\n",
    "\n",
    "Syntax of while loop:\n",
    "\n",
    "\n",
    "\n",
    "```\n",
    "while expression:\n",
    "  statement(s)\n",
    "```\n",
    "\n",
    "\n",
    "\n",
    "Examples:\n",
    "\n",
    "- Print the number 1 to 5:"
   ]
  },
  {
   "cell_type": "code",
   "execution_count": 57,
   "metadata": {
    "id": "Cjngn3DTDDRy"
   },
   "outputs": [
    {
     "name": "stdout",
     "output_type": "stream",
     "text": [
      "Number :: 1\n",
      "Number :: 2\n",
      "Number :: 3\n",
      "Number :: 4\n",
      "Number :: 5\n"
     ]
    }
   ],
   "source": [
    "# initialization \n",
    "i=1\n",
    "while i<=5:\n",
    " print(\"Number ::\",i)  # print the sum\n",
    " i=i+1"
   ]
  },
  {
   "cell_type": "markdown",
   "metadata": {
    "id": "QfYuS0mHEgen"
   },
   "source": [
    "Another Example\n",
    "\n",
    "* Sum of n natural number"
   ]
  },
  {
   "cell_type": "code",
   "execution_count": 58,
   "metadata": {
    "id": "OFi8tP9fEbCg"
   },
   "outputs": [
    {
     "name": "stdout",
     "output_type": "stream",
     "text": [
      "Enter n: 10\n",
      "The sum is 55\n"
     ]
    }
   ],
   "source": [
    "# sum = 1+2+3+...+n\n",
    "\n",
    "#Take input from the user\n",
    "n = int(input(\"Enter n: \"))\n",
    "# initialization \n",
    "sum = 0\n",
    "i = 1\n",
    "\n",
    "while i <= n:\n",
    "    sum = sum + i\n",
    "    i = i+1    \n",
    "# print the sum\n",
    "print(\"The sum is\", sum)"
   ]
  },
  {
   "cell_type": "markdown",
   "metadata": {
    "id": "IPhVzxbWEoCu"
   },
   "source": [
    "**For Loops:** <br>\n",
    "A for loop is used in python, to execute iterating over the item any sequence.<br>It can be a list, or a tuple, or a dictionary, or a set, or a string.\n",
    "\n",
    "Syntax of for loop:\n",
    "```\n",
    "for x in sequence :\n",
    "  body\n",
    "```\n",
    "Example:\n",
    "\n",
    "* Print each characters of the given string"
   ]
  },
  {
   "cell_type": "code",
   "execution_count": 59,
   "metadata": {
    "id": "d1MlNelAEmYd"
   },
   "outputs": [
    {
     "name": "stdout",
     "output_type": "stream",
     "text": [
      " \n",
      "P\n",
      "y\n",
      "t\n",
      "h\n",
      "o\n",
      "n\n"
     ]
    }
   ],
   "source": [
    "string=\" Python\"\n",
    "for i in string :\n",
    "  print(i)"
   ]
  },
  {
   "cell_type": "markdown",
   "metadata": {
    "id": "gNhd8XvrFE5V"
   },
   "source": [
    "Another Example:\n",
    "\n",
    "* Print user input string’s each character and index of the characters."
   ]
  },
  {
   "cell_type": "code",
   "execution_count": 60,
   "metadata": {
    "id": "Xc2-b3wYFAhj"
   },
   "outputs": [
    {
     "name": "stdout",
     "output_type": "stream",
     "text": [
      "Enter some String: Hello, I am Tapas Saha!\n",
      "index of H is: 0\n",
      "index of e is: 1\n",
      "index of l is: 2\n",
      "index of l is: 3\n",
      "index of o is: 4\n",
      "index of , is: 5\n",
      "index of   is: 6\n",
      "index of I is: 7\n",
      "index of   is: 8\n",
      "index of a is: 9\n",
      "index of m is: 10\n",
      "index of   is: 11\n",
      "index of T is: 12\n",
      "index of a is: 13\n",
      "index of p is: 14\n",
      "index of a is: 15\n",
      "index of s is: 16\n",
      "index of   is: 17\n",
      "index of S is: 18\n",
      "index of a is: 19\n",
      "index of h is: 20\n",
      "index of a is: 21\n",
      "index of ! is: 22\n"
     ]
    }
   ],
   "source": [
    "#Take input from the user,\n",
    "string=input(\"Enter some String: \")\n",
    "# initialization \n",
    "i=0 \n",
    "for x in string :\n",
    " print(\"index of\",x,\"is:\",i) # print\n",
    " i=i+1"
   ]
  },
  {
   "cell_type": "markdown",
   "metadata": {
    "id": "0HsQHj3AFNbu"
   },
   "source": [
    "One more example!\n",
    "\n",
    "* Program to calculate the sum and of all numbers stored in a list"
   ]
  },
  {
   "cell_type": "code",
   "execution_count": 61,
   "metadata": {
    "id": "WebQpsNlFHSx"
   },
   "outputs": [
    {
     "name": "stdout",
     "output_type": "stream",
     "text": [
      "The sum is 28\n",
      "The multiplication is 1800\n"
     ]
    }
   ],
   "source": [
    "# List of numbers\n",
    "n = [4, 9, 5, 10]\n",
    "# initialization  \n",
    "sum = 0\n",
    "mul=1\n",
    "for i in n:\n",
    "\tsum = sum+i\n",
    "\tmul=mul*i\n",
    "\n",
    "print(\"The sum is\", sum) #pint\n",
    "print(\"The multiplication is\", mul)"
   ]
  },
  {
   "cell_type": "markdown",
   "metadata": {
    "id": "lzmKnlQvFZmd"
   },
   "source": [
    "# **Functions in python**\n",
    "Nothing to write here. Let the code do the talking! 🔥🔥 <br>\n",
    "Functions are like recipies. Suppose you and I want to bake a cake. You went online and googled a recipie. Now we both will follow the same recipies but you want to use chololate flavour and I want to use pineapple! So we follow the same recipie but produce new results.\n",
    "\n",
    "A function is thus a block of code that can be re-used or run whenever it is needed. Information passed to a function is called an argument (the ingredients for the recipie-analogy)<br>\n",
    "\n",
    "**Defining the function** <br>\n",
    "Let us create a dedicated function that can add 2 numbers\n",
    "\n",
    "\n",
    "\n"
   ]
  },
  {
   "cell_type": "code",
   "execution_count": 62,
   "metadata": {
    "id": "nZtYVBZ3FTTb"
   },
   "outputs": [],
   "source": [
    "#defining the function\n",
    "def add(a,b):\n",
    " return (a+b)"
   ]
  },
  {
   "cell_type": "code",
   "execution_count": 63,
   "metadata": {
    "id": "1U9EW0GaFw-9"
   },
   "outputs": [
    {
     "name": "stdout",
     "output_type": "stream",
     "text": [
      "Hey user, enter the first number - 2\n",
      "Nice! now enter the second number - 56\n",
      "The sum of 2.0 and 56.0 is 58.0\n"
     ]
    }
   ],
   "source": [
    "# Calling a function\n",
    "# We will now feed some data to the function to get the sum value\n",
    "\n",
    "x = float(input(\"Hey user, enter the first number - \"))\n",
    "y = float(input(\"Nice! now enter the second number - \"))\n",
    "print(f\"The sum of {x} and {y} is {add(x,y)}\")"
   ]
  },
  {
   "cell_type": "markdown",
   "metadata": {
    "id": "bJqy0rveF_Lb"
   },
   "source": [
    "Saw that? Now just imagine how cool it would be to have a dedicated function for doing a more complex task!!\n",
    "\n",
    "**Lambda Expressions**\n",
    "\n",
    "Lambda function is used to create small elegant anonymous functions, generally used with `filter()` and `map()`"
   ]
  },
  {
   "cell_type": "code",
   "execution_count": 64,
   "metadata": {
    "id": "TMgGG2g-F6O1"
   },
   "outputs": [
    {
     "data": {
      "text/plain": [
       "9"
      ]
     },
     "execution_count": 64,
     "metadata": {},
     "output_type": "execute_result"
    }
   ],
   "source": [
    "m = lambda n:n**2\n",
    "m(3)"
   ]
  },
  {
   "cell_type": "markdown",
   "metadata": {
    "id": "WxGOoqNhGLb9"
   },
   "source": [
    "**The `map()` function**\n",
    "\n",
    "- This takes in a function and a list.\n",
    "- The function perform an operation on the entire list and return the results in a new list.\n",
    "- Let us see it work with a simple cube of a number"
   ]
  },
  {
   "cell_type": "code",
   "execution_count": 65,
   "metadata": {
    "id": "nXbiXCKRGI11"
   },
   "outputs": [
    {
     "name": "stdout",
     "output_type": "stream",
     "text": [
      "[125, 1000, 166375, 183250432, 102503232, 456533]\n"
     ]
    }
   ],
   "source": [
    "my_list = [5, 10, 55 , 568, 468, 77]\n",
    "output_list = list(map( lambda x: x**3, my_list))\n",
    "print(output_list)"
   ]
  },
  {
   "cell_type": "markdown",
   "metadata": {
    "id": "mIn11Z5RGYnc"
   },
   "source": [
    "**The `filter()` function**\n",
    "\n",
    "* This performs an operation on a list based on a specific condition after filtering\n",
    "* Let us see it work with a simple condition statement - numbers less than or equal to 201"
   ]
  },
  {
   "cell_type": "code",
   "execution_count": 66,
   "metadata": {
    "id": "kCYUgaQVGVLZ"
   },
   "outputs": [
    {
     "name": "stdout",
     "output_type": "stream",
     "text": [
      "[5, 10, 55, 77]\n"
     ]
    }
   ],
   "source": [
    "my_list = [5, 10, 55 , 568, 468, 77]\n",
    "condition = list(filter(lambda x: (x <= 201), my_list))\n",
    "print(condition)"
   ]
  },
  {
   "cell_type": "markdown",
   "metadata": {
    "id": "xvgZkXtsGkQK"
   },
   "source": [
    "# **Error handling in python**\n",
    "\n",
    "This is one of the most important concepts to make a coder's life easier. \n",
    "Just walk through the code and you'll get what I mean. Let the code do the talking! 🔥🔥 <br>\n",
    "\n",
    "While running an automated code that works on unknown or new data, it might happen that the code encounters an error at some point. You, as a coder might not like the execution process to stop. Rather you would like to have a notification that the error was found and that particular execution was bye-passed.\n",
    "\n",
    "This is where the **`try-except`** feature of pythons comes to the rescue!"
   ]
  },
  {
   "cell_type": "code",
   "execution_count": 67,
   "metadata": {
    "id": "p7qtsAjvGhb9"
   },
   "outputs": [
    {
     "ename": "NameError",
     "evalue": "name 'name' is not defined",
     "output_type": "error",
     "traceback": [
      "\u001b[0;31m---------------------------------------------------------------------------\u001b[0m",
      "\u001b[0;31mNameError\u001b[0m                                 Traceback (most recent call last)",
      "\u001b[0;32m/tmp/ipykernel_18086/2946539732.py\u001b[0m in \u001b[0;36m<module>\u001b[0;34m\u001b[0m\n\u001b[1;32m      1\u001b[0m \u001b[0;31m# understanding an error - let us try to print an undefined variable\u001b[0m\u001b[0;34m\u001b[0m\u001b[0;34m\u001b[0m\u001b[0;34m\u001b[0m\u001b[0m\n\u001b[0;32m----> 2\u001b[0;31m \u001b[0mprint\u001b[0m\u001b[0;34m(\u001b[0m\u001b[0mname\u001b[0m\u001b[0;34m)\u001b[0m\u001b[0;34m\u001b[0m\u001b[0;34m\u001b[0m\u001b[0m\n\u001b[0m\u001b[1;32m      3\u001b[0m \u001b[0ma\u001b[0m\u001b[0;34m=\u001b[0m\u001b[0;36m111\u001b[0m\u001b[0;34m\u001b[0m\u001b[0;34m\u001b[0m\u001b[0m\n\u001b[1;32m      4\u001b[0m \u001b[0mb\u001b[0m\u001b[0;34m=\u001b[0m\u001b[0;36m222\u001b[0m\u001b[0;34m\u001b[0m\u001b[0;34m\u001b[0m\u001b[0m\n\u001b[1;32m      5\u001b[0m \u001b[0mprint\u001b[0m\u001b[0;34m(\u001b[0m\u001b[0ma\u001b[0m\u001b[0;34m+\u001b[0m\u001b[0mb\u001b[0m\u001b[0;34m)\u001b[0m\u001b[0;34m\u001b[0m\u001b[0;34m\u001b[0m\u001b[0m\n",
      "\u001b[0;31mNameError\u001b[0m: name 'name' is not defined"
     ]
    }
   ],
   "source": [
    "# understanding an error - let us try to print an undefined variable\n",
    "print(name)\n",
    "a=111\n",
    "b=222\n",
    "print(a+b)"
   ]
  },
  {
   "cell_type": "code",
   "execution_count": 68,
   "metadata": {
    "id": "cmy47qJxHFLK"
   },
   "outputs": [
    {
     "name": "stdout",
     "output_type": "stream",
     "text": [
      "Error - The variable has no value defined to be printed in the first place.\n",
      "333\n"
     ]
    }
   ],
   "source": [
    "# Notice that the consequent codes were not executed after the error.\n",
    "# Now let us attempt to bye-pass the error part of the code and move on to the next executions\n",
    "\n",
    "try:\n",
    "    print(name)\n",
    "except NameError:\n",
    "    print(\"Error - The variable has no value defined to be printed in the first place.\")\n",
    "except:\n",
    "    print(\"Error - Not sure what the error is, but there is something wrong!\")\n",
    "a=111\n",
    "b=222\n",
    "print(a+b)"
   ]
  },
  {
   "cell_type": "markdown",
   "metadata": {
    "id": "3TH7Nch-HRGf"
   },
   "source": [
    "The above example only shows an application of the Built-in exceptions in python.<br>\n",
    "There are many Built in Exceptions available to be used.<br>\n",
    "You can learn about them here - https://docs.python.org/3/library/exceptions.html#bltin-exceptions <br>\n",
    "Till then, have fun!"
   ]
  },
  {
   "cell_type": "markdown",
   "metadata": {
    "id": "A9lH9H-hHr-t"
   },
   "source": [
    "# **File handling in python**\n",
    "Let the code do the talking! 🔥🔥 <br>\n",
    "\n",
    "**File Operations using python**\n",
    "* Modes for file handling\n",
    "* Creating a file - \"x\"\n",
    "* Reading a file - \"r\"\n",
    "* Writing a file - \"w\"\n",
    "* Appending a file - \"a\"\n",
    "\n",
    "**Creating a file** <br>\n",
    "Here we create a .txt (text) file, which we will use in the next steps!"
   ]
  },
  {
   "cell_type": "code",
   "execution_count": 69,
   "metadata": {
    "id": "GdAJzoaeHLdj"
   },
   "outputs": [],
   "source": [
    "f = open(\"file.txt\", \"x\") # open() is used to open the file we want to create/read/write/append"
   ]
  },
  {
   "cell_type": "markdown",
   "metadata": {
    "id": "pUQDYdgGIVbJ"
   },
   "source": [
    "\"f\" above can be considered as a file handler. One can use other names too! <br>\n",
    "\n",
    "Now it's time to write some data in the file"
   ]
  },
  {
   "cell_type": "code",
   "execution_count": 70,
   "metadata": {
    "id": "7QxOhKsqIQwb"
   },
   "outputs": [
    {
     "data": {
      "text/plain": [
       "20"
      ]
     },
     "execution_count": 70,
     "metadata": {},
     "output_type": "execute_result"
    }
   ],
   "source": [
    "f.write(\"This is a text file!\")"
   ]
  },
  {
   "cell_type": "markdown",
   "metadata": {
    "id": "UuNOZojTIgYZ"
   },
   "source": [
    "The output above is the number of characters we wrote into the file.\n",
    "\n",
    "**Reading a file** <br>\n",
    "This only works when the file name mentioned actually exists, just like one can only read a book if the book actually exists!"
   ]
  },
  {
   "cell_type": "code",
   "execution_count": 71,
   "metadata": {
    "id": "TqVEIwG3IS8j"
   },
   "outputs": [
    {
     "name": "stdout",
     "output_type": "stream",
     "text": [
      "This is a text file!\n"
     ]
    }
   ],
   "source": [
    "f = open(\"file.txt\", \"r\")\n",
    "print(f.read())"
   ]
  },
  {
   "cell_type": "markdown",
   "metadata": {
    "id": "y-qcEpuzIyWD"
   },
   "source": [
    "**Writing to a file** <br>\n",
    "This creates a new file if the file name used does not exist, just like one can write a book if the book does not already exist (I know the analogy is a bit lame, but please bear with me! 😅)"
   ]
  },
  {
   "cell_type": "code",
   "execution_count": 72,
   "metadata": {
    "id": "PsEtqv20IsRb"
   },
   "outputs": [
    {
     "data": {
      "text/plain": [
       "80"
      ]
     },
     "execution_count": 72,
     "metadata": {},
     "output_type": "execute_result"
    }
   ],
   "source": [
    "f = open(\"file.txt\", \"w\")\n",
    "f.write(\"This sentence replaces the sentence already present in the file named 'file.txt'\")"
   ]
  },
  {
   "cell_type": "code",
   "execution_count": 73,
   "metadata": {
    "id": "2pSKvDsxI7Fl"
   },
   "outputs": [
    {
     "name": "stdout",
     "output_type": "stream",
     "text": [
      "This sentence replaces the sentence already present in the file named 'file.txt'\n"
     ]
    }
   ],
   "source": [
    "#lets check the result\n",
    "f = open(\"file.txt\", \"r\")\n",
    "print(f.read())"
   ]
  },
  {
   "cell_type": "code",
   "execution_count": 74,
   "metadata": {
    "id": "66NwcriqJAn_"
   },
   "outputs": [
    {
     "data": {
      "text/plain": [
       "61"
      ]
     },
     "execution_count": 74,
     "metadata": {},
     "output_type": "execute_result"
    }
   ],
   "source": [
    "# Now, let's try writing to a file that does not exist. We will see that the file is created for us before writing into it.\n",
    "\n",
    "f = open(\"another-file.txt\", \"w\")\n",
    "f.write(\"This sentence is present in the file named 'another-file.txt'\")"
   ]
  },
  {
   "cell_type": "code",
   "execution_count": 75,
   "metadata": {
    "id": "iUrHBSFWJHif"
   },
   "outputs": [
    {
     "name": "stdout",
     "output_type": "stream",
     "text": [
      "This sentence is present in the file named 'another-file.txt'\n"
     ]
    }
   ],
   "source": [
    "f = open(\"another-file.txt\", \"r\")\n",
    "print(f.read())"
   ]
  },
  {
   "cell_type": "markdown",
   "metadata": {
    "id": "A8uHhI5ZJMj5"
   },
   "source": [
    "Nice!!\n",
    "\n",
    "**Appendig to a file** <br>\n",
    "Works same as writing to a file. Only difference is that it does not replace the pre-existing text."
   ]
  },
  {
   "cell_type": "code",
   "execution_count": 76,
   "metadata": {
    "id": "PNR8wwH0JJ0g"
   },
   "outputs": [
    {
     "name": "stdout",
     "output_type": "stream",
     "text": [
      "This sentence replaces the sentence already present in the file named 'file.txt'\n"
     ]
    }
   ],
   "source": [
    "f = open(\"file.txt\", \"r\")\n",
    "print(f.read())"
   ]
  },
  {
   "cell_type": "code",
   "execution_count": 77,
   "metadata": {
    "id": "RfvQG5itJZaZ"
   },
   "outputs": [
    {
     "data": {
      "text/plain": [
       "82"
      ]
     },
     "execution_count": 77,
     "metadata": {},
     "output_type": "execute_result"
    }
   ],
   "source": [
    "f = open(\"file.txt\", \"a\")\n",
    "f.write(\"This sentence appends to the sentence already present in the file named 'file.txt'\")"
   ]
  },
  {
   "cell_type": "code",
   "execution_count": 78,
   "metadata": {
    "id": "c9Uuz8jjJbJG"
   },
   "outputs": [
    {
     "name": "stdout",
     "output_type": "stream",
     "text": [
      "This sentence replaces the sentence already present in the file named 'file.txt'This sentence appends to the sentence already present in the file named 'file.txt'\n"
     ]
    }
   ],
   "source": [
    "f = open(\"file.txt\", \"r\")\n",
    "print(f.read())"
   ]
  },
  {
   "cell_type": "code",
   "execution_count": 79,
   "metadata": {
    "id": "VzJQGF59JdA8"
   },
   "outputs": [
    {
     "data": {
      "text/plain": [
       "62"
      ]
     },
     "execution_count": 79,
     "metadata": {},
     "output_type": "execute_result"
    }
   ],
   "source": [
    "# Now, let's try appending to a file that does not exist. We will see that the file is created for us before appending into it.\n",
    "\n",
    "f = open(\"another-file2.txt\", \"a\")\n",
    "f.write(\"This sentence is present in the file named 'another-file2.txt'\")"
   ]
  },
  {
   "cell_type": "code",
   "execution_count": 80,
   "metadata": {
    "id": "kzm3SdgwJg4u"
   },
   "outputs": [
    {
     "name": "stdout",
     "output_type": "stream",
     "text": [
      "This sentence is present in the file named 'another-file2.txt'\n"
     ]
    }
   ],
   "source": [
    "f = open(\"another-file2.txt\", \"r\")\n",
    "print(f.read())"
   ]
  },
  {
   "cell_type": "markdown",
   "metadata": {
    "id": "uxGmWJGBJlqE"
   },
   "source": [
    "**Now, that's how we deal with files using python. We can also make files of other extensions like .csv, .tsv, etc in the same procedure!**"
   ]
  }
 ],
 "metadata": {
  "colab": {
   "collapsed_sections": [],
   "name": "Codes_Indraneel.ipynb",
   "private_outputs": true,
   "provenance": []
  },
  "kernelspec": {
   "display_name": "Python 3 (ipykernel)",
   "language": "python",
   "name": "python3"
  },
  "language_info": {
   "codemirror_mode": {
    "name": "ipython",
    "version": 3
   },
   "file_extension": ".py",
   "mimetype": "text/x-python",
   "name": "python",
   "nbconvert_exporter": "python",
   "pygments_lexer": "ipython3",
   "version": "3.8.10"
  }
 },
 "nbformat": 4,
 "nbformat_minor": 1
}
