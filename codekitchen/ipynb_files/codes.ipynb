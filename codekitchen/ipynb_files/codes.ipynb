{
  "nbformat": 4,
  "nbformat_minor": 0,
  "metadata": {
    "colab": {
      "name": "codes.ipynb",
      "private_outputs": true,
      "provenance": []
    },
    "kernelspec": {
      "name": "python3",
      "display_name": "Python 3"
    },
    "language_info": {
      "name": "python"
    }
  },
  "cells": [
    {
      "cell_type": "markdown",
      "metadata": {
        "id": "qsixJ4m9-0RK"
      },
      "source": [
        ""
      ]
    },
    {
      "cell_type": "markdown",
      "metadata": {
        "id": "Tt7_sZ9MBvGc"
      },
      "source": [
        "# 1. Hello World\n",
        "Welcome to the world of python. In this section, we simply print a string using python code. You can say it's kind of a ritual/tradition for anyone who sets on a journey in coding with any language - our way of saying \"Hey world, here I come!\" 😉  "
      ]
    },
    {
      "cell_type": "code",
      "metadata": {
        "id": "Isqsm-FG8nPA"
      },
      "source": [
        "print('Hello World!!')\n",
        "print('Get ready to rock-N-roll ')"
      ],
      "execution_count": null,
      "outputs": []
    },
    {
      "cell_type": "code",
      "metadata": {
        "id": "I6qehZ5o-bAI"
      },
      "source": [
        "# we saw that the lines automatically shifted to new lines.\n",
        "# although we can do this manually too, in one print statement\n",
        "\n",
        "print('Hello World!! \\nGet ready to rock-N-roll')"
      ],
      "execution_count": null,
      "outputs": []
    },
    {
      "cell_type": "code",
      "metadata": {
        "id": "qq-gkmv2CH-K"
      },
      "source": [
        "# and that's how we do it !!"
      ],
      "execution_count": null,
      "outputs": []
    },
    {
      "cell_type": "markdown",
      "metadata": {
        "id": "SUDnyA0gCMw0"
      },
      "source": [
        "# 2. Interact with python - get an input/data\n",
        "To do some work, we need something to begin with - right? \n",
        "For example, you need a bat and a ball to play cricket. \n",
        "Similarly, while coding we need some data or input from the user on which we will do some work. "
      ]
    },
    {
      "cell_type": "code",
      "metadata": {
        "id": "mRbMfrHWCU9S"
      },
      "source": [
        "#asking user for a text (name)\n",
        "username = input('Please enter your name - ')"
      ],
      "execution_count": null,
      "outputs": []
    },
    {
      "cell_type": "code",
      "metadata": {
        "id": "8Jgw1YFYCcq_"
      },
      "source": [
        "#lets greet the user now\n",
        "print ('Hello '+ username)"
      ],
      "execution_count": null,
      "outputs": []
    },
    {
      "cell_type": "code",
      "metadata": {
        "id": "x2AujpavCgZP"
      },
      "source": [
        "#OK so lets go one step ahead ;) -- just to give you a feel of what we can do with programming\n",
        "#now its time to help the user know his/her age\n",
        "\n",
        "#ask the user's birth year\n",
        "year = input('Please enter your Birth Year - ')"
      ],
      "execution_count": null,
      "outputs": []
    },
    {
      "cell_type": "code",
      "metadata": {
        "id": "1eHILBuhClXb"
      },
      "source": [
        "#calculating the age, here we have to change the type for year from string to integer\n",
        "age = 2020-int(year)\n",
        "\n",
        "#now we will print the results\n",
        "print(f'Hey {username}, You are {age} years old :) ')"
      ],
      "execution_count": null,
      "outputs": []
    },
    {
      "cell_type": "code",
      "metadata": {
        "id": "dEi4LwuKCnyQ"
      },
      "source": [
        "#using \"f\" before writing the print statement saves us a lot of time and effort\n",
        "#just need to keep in mind that we are keeping the variables in {}"
      ],
      "execution_count": null,
      "outputs": []
    },
    {
      "cell_type": "markdown",
      "metadata": {
        "id": "VCed2p9bDEAJ"
      },
      "source": [
        "# 3. Dealing with Numbers\n",
        "So, in programming you can do lots of mathematical operations. But for that you need to have an idea of what are the various datatypes that are to be considered - or even not considered! This section will introduce with some of the possibilities and we'll cover the other complex stuff as we progress.\n",
        "\n",
        "You've got it. Keep going! 🙂  "
      ]
    },
    {
      "cell_type": "code",
      "metadata": {
        "id": "wX3h0paYDI6f"
      },
      "source": [
        "# first let us understand the datatypes.\n",
        "\n",
        "# integer datatype\n",
        "print(f\"The datatype for variable 20 is {type(20)}\") # <class 'int'>"
      ],
      "execution_count": null,
      "outputs": []
    },
    {
      "cell_type": "code",
      "metadata": {
        "id": "HXri1yNUDKz3"
      },
      "source": [
        "# float datatype\n",
        "print(f\"The datatype for variable 20.02 is {type(20.02)}\") # <class 'float'>"
      ],
      "execution_count": null,
      "outputs": []
    },
    {
      "cell_type": "code",
      "metadata": {
        "id": "EUXWxNk4DMuG"
      },
      "source": [
        "# string datatype\n",
        "print(f\"The datatype for variable 'abcd efg hijk lmnop' is {type('abcd efg hijk lmnop')}\") #<class 'str'>"
      ],
      "execution_count": null,
      "outputs": []
    },
    {
      "cell_type": "code",
      "metadata": {
        "id": "KJpPv7FBDO8P"
      },
      "source": [
        "#get the binary for the number\n",
        "print(bin(2020)) #prints the binary form of 2020 which is 0b11111100100\n",
        "#get number(integer) from binary form\n",
        "print(int('0b11111100100', 2)) # 2 for printing the integer form by base as 2\n",
        "\n",
        "# ---------------- that would be enogh for now to understand about the datatypes."
      ],
      "execution_count": null,
      "outputs": []
    },
    {
      "cell_type": "code",
      "metadata": {
        "id": "3bH5ntRiDRYm"
      },
      "source": [
        "# Let us now perform some arithmetic operations\n",
        "\n",
        "#arithmetic operations without variables\n",
        "print(f\"Sum of 3 and 5 is {3+5}\")\n",
        "print(f\"difference of 3 and 5 is {3-5}\")\n",
        "print(f\"Product of 3 and 5 is {3*5}\")\n",
        "print(f\"Fraction or Division of 3 and 5 is {3/5}\")\n",
        "print(f\"exponent of 3 with 5 is {3**5}\") #exponent\n",
        "print(f\"Modulus of 3 and 5 is {3%5}\")#mod"
      ],
      "execution_count": null,
      "outputs": []
    },
    {
      "cell_type": "code",
      "metadata": {
        "id": "OnWaCz03DVLx"
      },
      "source": [
        "#arithmetic operations with variables\n",
        "\n",
        "a = input(\"Enter a number. It will be stored as 'a' = \")\n",
        "b = input(\"Enter another number. It will be stored as 'b' = \")\n",
        "#python accepts inputs as str. So whenever we need to perform any mathematical operations, we need to change the datatypes"
      ],
      "execution_count": null,
      "outputs": []
    },
    {
      "cell_type": "code",
      "metadata": {
        "id": "QsssF_FrDXzH"
      },
      "source": [
        "print(f\"You see, I am writing here a+b but the output will not be the sum. \\nInstead, you will see the two numbers will be concatenated! \\nHere is the output = {a+b}\")"
      ],
      "execution_count": null,
      "outputs": []
    },
    {
      "cell_type": "code",
      "metadata": {
        "id": "7b80NH3SDauF"
      },
      "source": [
        "a = float(a) #keeping in float is safer as user might feed data with decimals\n",
        "b = float(b) #keeping in float is safer as user might feed data with decimals\n",
        "\n",
        "print(f\"Sum of {a} and {b} is {a+b}\")\n",
        "print(f\"difference of {a} and {b} is {a-b}\")\n",
        "print(f\"Product of {a} and {b} is {a*b}\")\n",
        "print(f\"Fraction or Division of {a} and {b} is {a/b}\")\n",
        "print(f\"exponent of {a} with {b} is {a**b}\") #exponent\n",
        "print(f\"Modulus of {a} and {b} is {a%b}\")#mod"
      ],
      "execution_count": null,
      "outputs": []
    },
    {
      "cell_type": "markdown",
      "metadata": {
        "id": "RVbkPV9RD4KH"
      },
      "source": [
        "# 4. Math Functions in Python\n",
        "To make our lives easier, there are many in-built special functions that are very useful to do specific tasks.\n",
        "Here we will see few of the in-built functions that can be used to perform mathematical operations."
      ]
    },
    {
      "cell_type": "code",
      "metadata": {
        "id": "eFBcJDa0D8kG"
      },
      "source": [
        "# MATH FUNCTIONS IN PYTHON\n",
        "# SOURCE - https://docs.python.org/3/library/math.html\n",
        "#--------------------------------------------------------------------------------------------------\n",
        "\n",
        "# first we need to import the math module\n",
        "# This module provides access to the mathematical functions defined by the C standard.\n",
        "#\n",
        "# These functions cannot be used with complex numbers; use the functions of the same name from the cmath module if you require support for complex numbers. The distinction between functions which support complex numbers and those which don’t is made since most users do not want to learn quite as much mathematics as required to understand complex numbers. Receiving an exception instead of a complex result allows earlier detection of the unexpected complex number used as a parameter, so that the programmer can determine how and why it was generated in the first place.\n",
        "#\n",
        "# The following functions are provided by this module. Except when explicitly noted otherwise, all return values are floats.\n",
        "import  math"
      ],
      "execution_count": null,
      "outputs": []
    },
    {
      "cell_type": "code",
      "metadata": {
        "id": "PLPgNQtFEYMT"
      },
      "source": [
        "# --------------Number-theoretic and representation functions--------------------------------------\n",
        "long_string = '''\n",
        "math.ceil(x)\n",
        "Return the ceiling of x, the smallest integer greater than or equal to x.\n",
        "If x is not a float, delegates to x.__ceil__(), which should return an Integral value.\n",
        "'''\n",
        "print(long_string)"
      ],
      "execution_count": null,
      "outputs": []
    },
    {
      "cell_type": "code",
      "metadata": {
        "id": "7LPFgmIeEbEr"
      },
      "source": [
        "print(\"\\n--------------------math.ceil(x)-------------------------------\")\n",
        "print(f\"math.ceil(x) --- for number = 404 --- {math.ceil(404)}\")\n",
        "print(f\"math.ceil(x) --- for number = 404.01 --- {math.ceil(404.01)}\")\n",
        "print(f\"math.ceil(x) --- for number = 404.36 --- {math.ceil(404.36)}\")\n",
        "print(f\"math.ceil(x) --- for number = 404.50 --- {math.ceil(404.50)}\")\n",
        "print(f\"math.ceil(x) --- for number = 404.86 --- {math.ceil(404.86)}\")\n",
        "print(\"---------------------------------------------------------------\\n\")"
      ],
      "execution_count": null,
      "outputs": []
    },
    {
      "cell_type": "code",
      "metadata": {
        "id": "YX2cb8mqEdSv"
      },
      "source": [
        "long_string = '''\n",
        "math.comb(n, k)\n",
        "Return the number of ways to choose k items from n items without repetition and without order.\n",
        "Evaluates to n! / (k! * (n - k)!) when k <= n and evaluates to zero when k > n.\n",
        "Also called the binomial coefficient because it is equivalent to the coefficient of k-th term in polynomial expansion of the expression (1 + x) ** n.\n",
        "Raises TypeError if either of the arguments are not integers. Raises ValueError if either of the arguments are negative.\n",
        "'''\n",
        "print(long_string)"
      ],
      "execution_count": null,
      "outputs": []
    },
    {
      "cell_type": "code",
      "metadata": {
        "id": "8rZham4iEgUj"
      },
      "source": [
        "print(\"\\n-------------------math.comb(n, k)-----------------------------\")\n",
        "print(f\"math.comb(n, k) --- for number = 404, 10 --- {math.comb(404, 10)}\")\n",
        "print(f\"math.comb(n, k) --- for number = 10, 2 --- {math.comb(10, 2)}\")\n",
        "print(f\"math.comb(n, k) --- for number = 10, 1 --- {math.comb(10, 1)}\")\n",
        "print(f\"math.comb(n, k) --- for number = 10, 10 --- {math.comb(10, 10)}\")\n",
        "print(f\"math.comb(n, k) --- for number = 10, 11 --- {math.comb(10, 11)}\")\n",
        "# print(f\"math.comb(n, k) --- for number = 404.01 --- {math.comb(404.01, 10)}\") #TypeError: 'float' object cannot be interpreted as an integer\n",
        "#print(f\"math.comb(n, k) --- for number = -404 --- {math.comb(-404, 10)}\") #ValueError: n must be a non-negative integer\n",
        "\n",
        "print(\"---------------------------------------------------------------\\n\")"
      ],
      "execution_count": null,
      "outputs": []
    },
    {
      "cell_type": "code",
      "metadata": {
        "id": "g3LniKTnEqda"
      },
      "source": [
        "#-------------------------------------------------------------------------------------------------\n",
        "#like these, there are many such examples. You can try them one-by-one\n",
        "#Also please add them here. Your contribution shall benefit many others!!\n",
        "# SOURCE - https://www.programiz.com/python-programming/modules/math\n",
        "\n",
        "# ceil(x)\tReturns the smallest integer greater than or equal to x.\n",
        "# copysign(x, y)\tReturns x with the sign of y\n",
        "# fabs(x)\tReturns the absolute value of x\n",
        "# factorial(x)\tReturns the factorial of x\n",
        "# floor(x)\tReturns the largest integer less than or equal to x\n",
        "# fmod(x, y)\tReturns the remainder when x is divided by y\n",
        "# frexp(x)\tReturns the mantissa and exponent of x as the pair (m, e)\n",
        "# fsum(iterable)\tReturns an accurate floating point sum of values in the iterable\n",
        "# isfinite(x)\tReturns True if x is neither an infinity nor a NaN (Not a Number)\n",
        "# isinf(x)\tReturns True if x is a positive or negative infinity\n",
        "# isnan(x)\tReturns True if x is a NaN\n",
        "# ldexp(x, i)\tReturns x * (2**i)\n",
        "# modf(x)\tReturns the fractional and integer parts of x\n",
        "# trunc(x)\tReturns the truncated integer value of x\n",
        "# exp(x)\tReturns e**x\n",
        "# expm1(x)\tReturns e**x - 1\n",
        "# log(x[, base])\tReturns the logarithm of x to the base (defaults to e)\n",
        "# log1p(x)\tReturns the natural logarithm of 1+x\n",
        "# log2(x)\tReturns the base-2 logarithm of x\n",
        "# log10(x)\tReturns the base-10 logarithm of x\n",
        "# pow(x, y)\tReturns x raised to the power y\n",
        "# sqrt(x)\tReturns the square root of x\n",
        "# acos(x)\tReturns the arc cosine of x\n",
        "# asin(x)\tReturns the arc sine of x\n",
        "# atan(x)\tReturns the arc tangent of x\n",
        "# atan2(y, x)\tReturns atan(y / x)\n",
        "# cos(x)\tReturns the cosine of x\n",
        "# hypot(x, y)\tReturns the Euclidean norm, sqrt(x*x + y*y)\n",
        "# sin(x)\tReturns the sine of x\n",
        "# tan(x)\tReturns the tangent of x\n",
        "# degrees(x)\tConverts angle x from radians to degrees\n",
        "# radians(x)\tConverts angle x from degrees to radians\n",
        "# acosh(x)\tReturns the inverse hyperbolic cosine of x\n",
        "# asinh(x)\tReturns the inverse hyperbolic sine of x\n",
        "# atanh(x)\tReturns the inverse hyperbolic tangent of x\n",
        "# cosh(x)\tReturns the hyperbolic cosine of x\n",
        "# sinh(x)\tReturns the hyperbolic cosine of x\n",
        "# tanh(x)\tReturns the hyperbolic tangent of x\n",
        "# erf(x)\tReturns the error function at x\n",
        "# erfc(x)\tReturns the complementary error function at x\n",
        "# gamma(x)\tReturns the Gamma function at x\n",
        "# lgamma(x)\tReturns the natural logarithm of the absolute value of the Gamma function at x\n",
        "# pi\tMathematical constant, the ratio of circumference of a circle to it's diameter (3.14159...)\n",
        "# e\tmathematical constant e (2.71828...)\n",
        "\n",
        "# math.acos(x)\tReturns the arc cosine value of x\n",
        "# math.acosh(x)\tReturns the hyperbolic arc cosine of x\n",
        "# math.asin(x)\tReturns the arc sine of x\n",
        "# math.asinh(x)\tReturns the hyperbolic arc sine of x\n",
        "# math.atan(x)\tReturns the arc tangent value of x\n",
        "# math.atan2(y, x)\tReturns the arc tangent of y/x in radians\n",
        "# math.atanh(x)\tReturns the hyperbolic arctangent value of x\n",
        "# math.ceil(x)\tRounds a number upwards to the nearest integer, and returns the result\n",
        "# math.comb(n, k)\tReturns the number of ways to choose k items from n items without repetition and order\n",
        "# math.copysign(x, y)\tReturns a float consisting of the value of the first parameter and the sign of the second parameter\n",
        "# math.cos(x)\tReturns the cosine of x\n",
        "# math.cosh(x)\tReturns the hyperbolic cosine of x\n",
        "# math.degrees(x)\tConverts an angle from radians to degrees\n",
        "# math.dist(p, q)\tCalculates the euclidean distance between two specified points (p and q), where p and q are the coordinates of that point\n",
        "# math.erf(x)\tReturns the error function of x\n",
        "# math.erfc(x)\tReturns the complementary error function of x\n",
        "# math.exp(x)\tReturns the value of Ex, where E is Euler's number (approximately 2.718281...), and x is the number passed to it\n",
        "# math.expm1(x)\tReturns the value of Ex - 1, where E is Euler's number (approximately 2.718281...), and x is the number passed to it\n",
        "# math.fabs(x)\tReturns the absolute value of a number\n",
        "# math.factorial()\tReturns the factorial of a number\n",
        "# math.floor(x)\tRounds a number downwards to the nearest integer, and returns the result\n",
        "# math.fmod(x, y)\tReturns the remainder of specified numbers when a number is divided by another number\n",
        "# math.frexp()\tReturns the mantissa and the exponent, of a specified value\n",
        "# math.fsum(iterable)\tReturns the sum of all items in an iterable (tuples, arrays, lists, etc.)\n",
        "# math.gamma(x)\tReturns the gamma value of x\n",
        "# math.gcd()\tReturns the highest value that can divide two integers\n",
        "# math.hypot()\tFind the Euclidean distance from the origin for n inputs\n",
        "# math.isclose()\tChecks whether two values are close, or not\n",
        "# math.isfinite(x)\tChecks whether x is a finite number\n",
        "# math.isinf(x)\tCheck whether x is a positive or negative infinty\n",
        "# math.isnan(x)\tChecks whether x is NaN (not a number)\n",
        "# math.isqrt(n)\tReturns the nearest integer square root of n\n",
        "# math.ldexp(x, i)\tReturns the expression x * 2i where x is mantissa and i is an exponent\n",
        "# math.lgamma(x)\tReturns the log gamma value of x\n",
        "# math.log(x, base)\tReturns the natural logarithm of a number, or the logarithm of number to base\n",
        "# math.log10(x)\tReturns the base-10 logarithm of x\n",
        "# math.log1p(x)\tReturns the natural logarithm of 1+x\n",
        "# math.log2(x)\tReturns the base-2 logarithm of x\n",
        "# math.perm(n, k)\tReturns the number of ways to choose k items from n items with order and without repetition\n",
        "# math.pow(x, y)\tReturns the value of x to the power of y\n",
        "# math.prod(iterable, *, start=1)\tReturns the product of an iterable (lists, array, tuples, etc.)\n",
        "# math.radians(x)\tConverts a degree value (x) to radians\n",
        "# math.remainder(x, y)\tReturns the closest value that can make numerator completely divisible by the denominator\n",
        "# math.sin(x)\tReturns the sine of x\n",
        "# math.sinh(x)\tReturns the hyperbolic sine of x\n",
        "# math.sqrt(x)\tReturns the square root of x\n",
        "# math.tan(x)\tReturns the tangent of x\n",
        "# math.tanh(x)\tReturns the hyperbolic tangent of x\n",
        "# math.trunc(x)\tReturns the truncated integer parts of x\n",
        "# Math Constants\n",
        "# Constant\tDescription\n",
        "# math.e\tReturns Euler's number (2.7182...)\n",
        "# math.inf\tReturns a floating-point positive infinity\n",
        "# math.nan\tReturns a floating-point NaN (Not a Number) value\n",
        "# math.pi\tReturns PI (3.1415...)\n",
        "# math.tau\tReturns tau (6.2831...)"
      ],
      "execution_count": null,
      "outputs": []
    },
    {
      "cell_type": "markdown",
      "metadata": {
        "id": "3ux1ZI20EsaG"
      },
      "source": [
        "# 5. Strings in Python\n",
        "Here we will see how to handle strings in python.\n",
        "When we deal with data, we mostly deal with strings - which we then reformat according to our choices.\n",
        "So, it is important that we deal properly with the strings such that we don't loose data"
      ]
    },
    {
      "cell_type": "code",
      "metadata": {
        "id": "D5WdCDbxEv8f"
      },
      "source": [
        "# write a long string (multiple lines without using \\n)\n",
        "long_string = '''\n",
        "Hello there!\n",
        "We are currently creating a long string.\n",
        "Write multiple lines here,\n",
        "without any worries. B-)\n",
        "'''\n",
        "print(long_string)"
      ],
      "execution_count": null,
      "outputs": []
    },
    {
      "cell_type": "code",
      "metadata": {
        "id": "1-cVpTjcEzed"
      },
      "source": [
        "#using escape sequences\n",
        "\n",
        "    #it's difficult to insert a special character in a string or print statement.\n",
        "    #so, we use \\ as our saviour!\n",
        "print(\"See, we are writing \\\" in  a print statement without any worries!\")\n",
        "print('Isn\\'t it awesome??')"
      ],
      "execution_count": null,
      "outputs": []
    },
    {
      "cell_type": "code",
      "metadata": {
        "id": "f-4Bouo3E2Yw"
      },
      "source": [
        "#newline\n",
        "print(\"This is the first line \\nThis is the second line\")"
      ],
      "execution_count": null,
      "outputs": []
    },
    {
      "cell_type": "code",
      "metadata": {
        "id": "NIOeOvLGE5-S"
      },
      "source": [
        "#backspace\n",
        "print(\"This is an incomplete li\\bne\")"
      ],
      "execution_count": null,
      "outputs": []
    },
    {
      "cell_type": "code",
      "metadata": {
        "id": "o0MNb9AYE7xS"
      },
      "source": [
        "#horizontal tab\n",
        "print(\"Here comes the tab\\tGot that??\")"
      ],
      "execution_count": null,
      "outputs": []
    },
    {
      "cell_type": "code",
      "metadata": {
        "id": "ZGeZoOVsE_jp"
      },
      "source": [
        "#print a backslash itself\n",
        "print(\"So, here is the \\\\ you wanted to see!\")"
      ],
      "execution_count": null,
      "outputs": []
    },
    {
      "cell_type": "code",
      "metadata": {
        "id": "17EoFr01FCfq"
      },
      "source": [
        "#formating a string (we have already seen this before, now it is time to realize it !!)\n",
        "a = 2020\n",
        "print(\"This code was written in the year \"+str(a)) #here the number is printed in form of a string otherwise it throws an error\n",
        "                                                    #TypeError: can only concatenate str (not \"int\") to str\n",
        "print(\"After 10 years it will be the year \"+str(a+10)) #same explanation as above\n",
        "#now let us use a shortcut\n",
        "print(f\"The code is written in the year {a}\") #see, how simple it is to format a string!!\n",
        "print(f\"After 10 years it will be the year {a+10}\")"
      ],
      "execution_count": null,
      "outputs": []
    },
    {
      "cell_type": "code",
      "metadata": {
        "id": "kSFfm5-AFUk0"
      },
      "source": [
        "#how to get a string index\n",
        "text = \"Climate change is real!\"\n",
        "print(text)\n",
        "print(text[1:10]) #counting starts from 0\n",
        "print(text[0:10]) #now see the difference\n",
        "print(text[:10]) #prints first 10 elements\n",
        "print(text[::]) #prints Everything\n",
        "print(text[-1]) #first element starting from the end of the string\n",
        "print(text[-3]) #third element starting from the end of the string\n",
        "print(text[::-1]) #prints in reverse order"
      ],
      "execution_count": null,
      "outputs": []
    },
    {
      "cell_type": "code",
      "metadata": {
        "id": "SA2NCdHbGMs4"
      },
      "source": [
        "# there are many more things to know about strings. \n",
        "# You are welcome to add anything relevant you wish to in this notebook!\n",
        "# Please collaborate and contribute :)"
      ],
      "execution_count": null,
      "outputs": []
    },
    {
      "cell_type": "markdown",
      "metadata": {
        "id": "Ai11T4aZHDfk"
      },
      "source": [
        "# 6. String functions in Python\n",
        "Just like we used the math-functions above, this is also quite similar. But here you wouldn't have to import a module.\n",
        "Follow the code below (let the code do the talking!)\n",
        "Note: This section discusses one of the functions to get you started. There are many more available. Just Google them!"
      ]
    },
    {
      "cell_type": "code",
      "metadata": {
        "id": "X892PjRGHHdn"
      },
      "source": [
        "# SOURCE - https://www.w3schools.com/python/python_ref_string.asp\n",
        "mystring = 'lights WILL guide YOU home\\n'\n",
        "\n",
        "# capitalize()\tConverts the first character to upper case\n",
        "print(f\"\\ncapitalize() Converts the first character to upper case \\n\\nOriginal string = {mystring} \\n Result string = {mystring.capitalize()}\")"
      ],
      "execution_count": null,
      "outputs": []
    },
    {
      "cell_type": "code",
      "metadata": {
        "id": "ZGrDltdyHJ2E"
      },
      "source": [
        "# casefold()\tConverts string into lower case\n",
        "print(f\"\\ncasefold() Converts string into lower case\\n\\nOriginal string = {mystring} \\n Result string = {mystring.casefold()}\")"
      ],
      "execution_count": null,
      "outputs": []
    },
    {
      "cell_type": "code",
      "metadata": {
        "id": "3Ci4PzpyHNDP"
      },
      "source": [
        "# center()\tReturns a centered string\n",
        "temp = \"banana\"\n",
        "print(f\"\\ncenter() Returns a centered string\\n\\nOriginal string = {temp} \")"
      ],
      "execution_count": null,
      "outputs": []
    },
    {
      "cell_type": "code",
      "metadata": {
        "id": "ZnqmjAG2HOaR"
      },
      "source": [
        "temp = temp.center(20, \"0\")\n",
        "print(f\"\\nResult string = {temp}\")"
      ],
      "execution_count": null,
      "outputs": []
    },
    {
      "cell_type": "code",
      "metadata": {
        "id": "y_A3sxX_HTQD"
      },
      "source": [
        "#try out the rest!!\n",
        "\n",
        "# count()\tReturns the number of times a specified value occurs in a string\n",
        "# encode()\tReturns an encoded version of the string\n",
        "# endswith()\tReturns true if the string ends with the specified value\n",
        "# expandtabs()\tSets the tab size of the string\n",
        "# find()\tSearches the string for a specified value and returns the position of where it was found\n",
        "# format()\tFormats specified values in a string\n",
        "# format_map()\tFormats specified values in a string\n",
        "# index()\tSearches the string for a specified value and returns the position of where it was found\n",
        "# isalnum()\tReturns True if all characters in the string are alphanumeric\n",
        "# isalpha()\tReturns True if all characters in the string are in the alphabet\n",
        "# isdecimal()\tReturns True if all characters in the string are decimals\n",
        "# isdigit()\tReturns True if all characters in the string are digits\n",
        "# isidentifier()\tReturns True if the string is an identifier\n",
        "# islower()\tReturns True if all characters in the string are lower case\n",
        "# isnumeric()\tReturns True if all characters in the string are numeric\n",
        "# isprintable()\tReturns True if all characters in the string are printable\n",
        "# isspace()\tReturns True if all characters in the string are whitespaces\n",
        "# istitle()\tReturns True if the string follows the rules of a title\n",
        "# isupper()\tReturns True if all characters in the string are upper case\n",
        "# join()\tJoins the elements of an iterable to the end of the string\n",
        "# ljust()\tReturns a left justified version of the string\n",
        "# lower()\tConverts a string into lower case\n",
        "# lstrip()\tReturns a left trim version of the string\n",
        "# maketrans()\tReturns a translation table to be used in translations\n",
        "# partition()\tReturns a tuple where the string is parted into three parts\n",
        "# replace()\tReturns a string where a specified value is replaced with a specified value\n",
        "# rfind()\tSearches the string for a specified value and returns the last position of where it was found\n",
        "# rindex()\tSearches the string for a specified value and returns the last position of where it was found\n",
        "# rjust()\tReturns a right justified version of the string\n",
        "# rpartition()\tReturns a tuple where the string is parted into three parts\n",
        "# rsplit()\tSplits the string at the specified separator, and returns a list\n",
        "# rstrip()\tReturns a right trim version of the string\n",
        "# split()\tSplits the string at the specified separator, and returns a list\n",
        "# splitlines()\tSplits the string at line breaks and returns a list\n",
        "# startswith()\tReturns true if the string starts with the specified value\n",
        "# strip()\tReturns a trimmed version of the string\n",
        "# swapcase()\tSwaps cases, lower case becomes upper case and vice versa\n",
        "# title()\tConverts the first character of each word to upper case\n",
        "# translate()\tReturns a translated string\n",
        "# upper()\tConverts a string into upper case\n",
        "# zfill()\tFills the string with a specified number of 0 values at the beginning"
      ],
      "execution_count": null,
      "outputs": []
    },
    {
      "cell_type": "markdown",
      "metadata": {
        "id": "I0v0nyeEHVDQ"
      },
      "source": [
        "# 7. Lists in Python\n",
        "Python has several features which are used in all sorts of programming endeavors. One of them is a \"list\".\n",
        "Like always,  Follow the code below (let the code do the talking!)\n",
        "\n",
        "This set of codes has been generously contributed by Mr. Bittesh Barman. \n",
        "Mr. Bittesh is a PhD student at the Department of Chemistry, Pondicherry University, India.\n",
        " Visit this URL to view his works. Thank you!"
      ]
    },
    {
      "cell_type": "code",
      "metadata": {
        "id": "qppDu-DkHcx_"
      },
      "source": [
        "# Working with Lists!\n",
        "\n",
        "cars = [\"honda\",\"hundai\",\"tata\"] # this is a list type data structure. each elements in list is called item. \n",
        "print(cars)\n",
        "print(cars[0])# we can call any item in this list by its index no.\n",
        "print(cars[2])"
      ],
      "execution_count": null,
      "outputs": []
    },
    {
      "cell_type": "code",
      "metadata": {
        "id": "G9NgWiu4Hed3"
      },
      "source": [
        "# Changing items in a list\n",
        "\n",
        "shoping_cart = [\"Pencil\", \"notebook\",\"book\"]\n",
        "print(shoping_cart)\n",
        "shoping_cart[0] = \"pen\" # we can change item by using the index no.\n",
        "print(shoping_cart)"
      ],
      "execution_count": null,
      "outputs": []
    },
    {
      "cell_type": "code",
      "metadata": {
        "id": "x358UzOMHfLI"
      },
      "source": [
        "#Appending to a list\n",
        "\n",
        "fruits = ['banana','orange','watermelon']\n",
        "fruits.append('grapes') # we can add items in list using append method. \n",
        "print(fruits)"
      ],
      "execution_count": null,
      "outputs": []
    },
    {
      "cell_type": "code",
      "metadata": {
        "id": "Bbmw7rl6Hiwf"
      },
      "source": [
        "# The 'insert()' method!\n",
        "\n",
        "weapons = ['pan', 'assult rifle', 'shotgun', 'pistol']\n",
        "weapons.insert(3, 'sniper') # we can add item in any position of  the list by using insert method.\n",
        "print(weapons)"
      ],
      "execution_count": null,
      "outputs": []
    },
    {
      "cell_type": "markdown",
      "metadata": {
        "id": "8Z1Go9hlHm7a"
      },
      "source": [
        "# 8. Tuples in Python\n",
        "A tuple is a sequence of immutable (meaning unchanging over time or unable to be changed) Python objects. \n",
        "Follow the code below (let the code do the talking!)"
      ]
    },
    {
      "cell_type": "markdown",
      "metadata": {
        "id": "Pxfa5j9cHwXM"
      },
      "source": [
        "\n",
        "**Defining a Tuple**"
      ]
    },
    {
      "cell_type": "code",
      "metadata": {
        "id": "4POmZ6iZH1as"
      },
      "source": [
        "tuple_1 = ('India', 'Japan', 100, 90, 85674);\n",
        "tuple_1"
      ],
      "execution_count": null,
      "outputs": []
    },
    {
      "cell_type": "markdown",
      "metadata": {
        "id": "LM-fY_h6H7c-"
      },
      "source": [
        "\n",
        "Please note that in defining a tuple, a semicolon is used!\n",
        "So those python memes donot hold TRUE here 😉"
      ]
    },
    {
      "cell_type": "markdown",
      "metadata": {
        "id": "uZvop3QGH8mU"
      },
      "source": [
        "**Size of the tuple**"
      ]
    },
    {
      "cell_type": "code",
      "metadata": {
        "id": "M5IbeOvdIB96"
      },
      "source": [
        "len(tuple_1)"
      ],
      "execution_count": null,
      "outputs": []
    },
    {
      "cell_type": "markdown",
      "metadata": {
        "id": "lGLkK3vWIEXV"
      },
      "source": [
        "\n",
        "The size is 5 but if we see the index, it starts with 0.\n",
        "Let's have a look here"
      ]
    },
    {
      "cell_type": "markdown",
      "metadata": {
        "id": "1m-ACcjwIGuO"
      },
      "source": [
        "**Accessing elements inside the tuple**"
      ]
    },
    {
      "cell_type": "code",
      "metadata": {
        "id": "w850EysMIMMI"
      },
      "source": [
        "print(f\"The first element - {tuple_1[0]}\\nThe second element - {tuple_1[1]}\\nThe last element - {tuple_1[len(tuple_1)-1]} \")"
      ],
      "execution_count": null,
      "outputs": []
    },
    {
      "cell_type": "markdown",
      "metadata": {
        "id": "pLVH_QhZIRWr"
      },
      "source": [
        "\n",
        "The last element was obtained by using the last index via the code tuple_1[len(tuple_1)-1]\n",
        "Just for fun!"
      ]
    },
    {
      "cell_type": "markdown",
      "metadata": {
        "id": "99WYNCTCISrI"
      },
      "source": [
        "**Tuples are immutable**\n",
        "\n",
        "So, if we write tuple_1[0] = some value we will get an error!"
      ]
    },
    {
      "cell_type": "code",
      "metadata": {
        "id": "VXUA7VpEIYTz"
      },
      "source": [
        "tuple_1[0] = 12"
      ],
      "execution_count": null,
      "outputs": []
    },
    {
      "cell_type": "markdown",
      "metadata": {
        "id": "zFcT3WE0Ic9j"
      },
      "source": [
        "# 9. Dictionaries in Python\n",
        "Dictionaries store elements in a key-value pair format. Dictionary elements are accessed via keys while List elements are accessed by their index. \n",
        "Follow the code below (let the code do the talking!)"
      ]
    },
    {
      "cell_type": "markdown",
      "metadata": {
        "id": "sMbs5aEFIgzP"
      },
      "source": [
        "**Defining a Dictionary**"
      ]
    },
    {
      "cell_type": "markdown",
      "metadata": {
        "id": "4_AGG_wpIkvC"
      },
      "source": [
        "dy = { \"Country\": \"India\",\n",
        "         \"Currency\": \"INR\",\n",
        "         \"Continent\": \"Asia\",\n",
        "            \"Language\": \"Multiple\"}\n",
        "dy"
      ]
    },
    {
      "cell_type": "markdown",
      "metadata": {
        "id": "4Ie9hmWOImsT"
      },
      "source": [
        "\n",
        "**Access a dictionary** (using the key and not the value)"
      ]
    },
    {
      "cell_type": "code",
      "metadata": {
        "id": "mb5earUmIrcr"
      },
      "source": [
        "dy[\"Country\"]"
      ],
      "execution_count": null,
      "outputs": []
    },
    {
      "cell_type": "code",
      "metadata": {
        "id": "xwtRC5gMItns"
      },
      "source": [
        "\n",
        "dy[\"India\"]"
      ],
      "execution_count": null,
      "outputs": []
    },
    {
      "cell_type": "markdown",
      "metadata": {
        "id": "a6_Qxj0LIwrE"
      },
      "source": [
        "Understood the error above? We need to use the key to access a specific value\n",
        "\n",
        "**Adding data to a dictionary**"
      ]
    },
    {
      "cell_type": "code",
      "metadata": {
        "id": "hrl5sGslI1fn"
      },
      "source": [
        "dy[\"Capital\"] = \"Delhi\"\n",
        "dy"
      ],
      "execution_count": null,
      "outputs": []
    },
    {
      "cell_type": "markdown",
      "metadata": {
        "id": "JNwuFkQYI3ni"
      },
      "source": [
        "# 10. Comparison Operators\n",
        "Used to compare 2 or more values and decide if the condition is True or False \n",
        "Follow the code below (let the code do the talking!)"
      ]
    },
    {
      "cell_type": "markdown",
      "metadata": {
        "id": "HodzRTuWJEL5"
      },
      "source": [
        "Comparison Operators\n",
        "\n",
        "\n",
        "Let us consider a random variable 'x' with a random numerical value stored in it.\n",
        "Following is how we can compare the value stored in 'x' with other numerical entities.\n",
        "\n",
        "\n",
        "*   Equals: x == 5m\n",
        "*   Not equal: x != 5\n",
        "*  Greater than: x > 5\n",
        "*  Greater than or equal: x >= 5\n",
        "*  Less than: x < 5\n",
        "*   Less than or equal: to x <= 5\n",
        "\n",
        "\n",
        "The outcome is always in the form of \"True\" or \"False\" - Boolean"
      ]
    },
    {
      "cell_type": "code",
      "metadata": {
        "id": "Iuyojx0mJsuw"
      },
      "source": [
        "\n",
        "# let us declare a variable with a numerical value\n",
        "x = 1001\n",
        "\n",
        "print(x==5)"
      ],
      "execution_count": null,
      "outputs": []
    },
    {
      "cell_type": "code",
      "metadata": {
        "id": "EvMgseJpJu-S"
      },
      "source": [
        "print(x!=5)"
      ],
      "execution_count": null,
      "outputs": []
    },
    {
      "cell_type": "code",
      "metadata": {
        "id": "xJgSqxNNJwo3"
      },
      "source": [
        "print(x > 5)"
      ],
      "execution_count": null,
      "outputs": []
    },
    {
      "cell_type": "code",
      "metadata": {
        "id": "zXKA8Lo6JxSv"
      },
      "source": [
        "\n",
        "print(x >= 5)"
      ],
      "execution_count": null,
      "outputs": []
    },
    {
      "cell_type": "code",
      "metadata": {
        "id": "AfgHNahrJ0Ed"
      },
      "source": [
        "print( x < 5)"
      ],
      "execution_count": null,
      "outputs": []
    },
    {
      "cell_type": "code",
      "metadata": {
        "id": "5hVGzoC5J5Bw"
      },
      "source": [
        "print( x <= 5)"
      ],
      "execution_count": null,
      "outputs": []
    },
    {
      "cell_type": "markdown",
      "metadata": {
        "id": "ZfiWN6P6J-4Y"
      },
      "source": [
        "# 11. Conditional Statements (IF-ELSE) \n",
        "Think of this scenario - if I score at least 40% in the exam, I will pass, else I will fail.\n",
        "So, here the condition for me passing the exam is to reach the 40% mark which can be expressed as \">=\" (didn't understand? Study the previous section!) . Now, it just has to be conveyed to the computer and here's how it is done!\n",
        "Follow the code below (let the code do the talking!)"
      ]
    },
    {
      "cell_type": "markdown",
      "metadata": {
        "id": "av7ONvaDKEoi"
      },
      "source": [
        "\n",
        "**Conditional Statements**\n",
        "\n",
        "It is basically the If - else statement\n",
        "If statement is generally followed by an optional else statement\n",
        "The results are always in Boolean\n",
        "else statement works if the if statement returns a FALSE expression."
      ]
    },
    {
      "cell_type": "code",
      "metadata": {
        "id": "uX9IFDlGKG6t"
      },
      "source": [
        "pass_marks = float(input(\"Enter your marks\"))\n",
        "if pass_marks>=40.0:\n",
        "    print(\"You passed the exam.\")\n",
        "else:\n",
        "    print(\"Well, it didn't work this time. But you can do it. Please don't give up.\")"
      ],
      "execution_count": null,
      "outputs": []
    },
    {
      "cell_type": "code",
      "metadata": {
        "id": "4PfeKKYGKLRy"
      },
      "source": [
        "pass_marks = float(input(\"Enter your marks\"))\n",
        "if pass_marks>=40.0:\n",
        "    print(\"You passed the exam.\")\n",
        "else:\n",
        "    print(\"Well, it didn't work this time. But you can do it. Please don't give up.\")"
      ],
      "execution_count": null,
      "outputs": []
    },
    {
      "cell_type": "markdown",
      "metadata": {
        "id": "2XjgZzxyKNhV"
      },
      "source": [
        "**So, that's how we deal with the if-else statements in python.\n",
        "Note: Always remember to take care of the indentation!**"
      ]
    },
    {
      "cell_type": "markdown",
      "metadata": {
        "id": "2fSrKLD9KYar"
      },
      "source": [
        "# 12. Nested or Multiple IF-ELSE (also called ELIF)??\n",
        "Sometimes, we need to put up multiple conditions for an event to happen. For that, we use IF-ELSE statements multiple times.\n",
        "So, this is how we do it in python!"
      ]
    },
    {
      "cell_type": "markdown",
      "metadata": {
        "id": "PJZ3T41gKfhh"
      },
      "source": [
        "**Multiple if-else**\n",
        "\n",
        "Let us consider that the criteria to get a job interview is atleast 8.0 CGPA and at least 2 years of experience.\n",
        "So following would be the way to deal with the situation"
      ]
    },
    {
      "cell_type": "code",
      "metadata": {
        "id": "omYlCNqtKhgn"
      },
      "source": [
        "cgpa = float(input(\"what is your CGPA out of 10.0?\"))\n",
        "if cgpa >=8.0:\n",
        "    experience = float(input(\"how many years of experience do you have?\"))\n",
        "    if experience>=2.0:\n",
        "        print(\"You are eligible for an interview\")\n",
        "    else:\n",
        "        print(\"Sorry, although you have at least 8.0 GPA, you lack a minimum experience of 2 years.\")\n",
        "else:\n",
        "    print(\"Sorry, you need minimum 8.0 CGPA to be eligible\")"
      ],
      "execution_count": null,
      "outputs": []
    },
    {
      "cell_type": "code",
      "metadata": {
        "id": "kkfvVT-HKn9J"
      },
      "source": [
        "cgpa = float(input(\"what is your CGPA out of 10.0?\"))\n",
        "if cgpa >=8.0:\n",
        "    experience = float(input(\"how many years of experience do you have?\"))\n",
        "    if experience>=2.0:\n",
        "        print(\"You are eligible for an interview\")\n",
        "    else:\n",
        "        print(\"Sorry, although you have at least 8.0 GPA, you lack a minimum experience of 2 years.\")\n",
        "else:\n",
        "    print(\"Sorry, you need minimum 8.0 CGPA to be eligible\")"
      ],
      "execution_count": null,
      "outputs": []
    },
    {
      "cell_type": "code",
      "metadata": {
        "id": "zBpQFzZEKr59"
      },
      "source": [
        "cgpa = float(input(\"what is your CGPA out of 10.0?\"))\n",
        "if cgpa >=8.0:\n",
        "    experience = float(input(\"how many years of experience do you have?\"))\n",
        "    if experience>=2.0:\n",
        "        print(\"You are eligible for an interview\")\n",
        "    else:\n",
        "        print(\"Sorry, although you have at least 8.0 GPA, you lack a minimum experience of 2 years.\")\n",
        "else:\n",
        "    print(\"Sorry, you need minimum 8.0 CGPA to be eligible\")"
      ],
      "execution_count": null,
      "outputs": []
    },
    {
      "cell_type": "markdown",
      "metadata": {
        "id": "-4KxZoJ1Ktai"
      },
      "source": [
        "\n",
        "**The elif statement**\n",
        "\n",
        "Let us just write a simple code where the user enters a number from 1 to 5 and the code prints the number in words."
      ]
    },
    {
      "cell_type": "code",
      "metadata": {
        "id": "VndEipIfKyTT"
      },
      "source": [
        "num = int(input(\"Enter a number between 1 to 5 - \"))\n",
        "if num == 1:\n",
        "    print('One')\n",
        "elif num == 2:\n",
        "    print('Two')\n",
        "elif num==3:\n",
        "    print('Three')\n",
        "elif num==4:\n",
        "    print(\"Four\")\n",
        "else:\n",
        "    print(\"Five\")"
      ],
      "execution_count": null,
      "outputs": []
    },
    {
      "cell_type": "code",
      "metadata": {
        "id": "UCg1GWIJK6t3"
      },
      "source": [
        "num = int(input(\"Enter a number between 1 to 5 - \"))\n",
        "if num == 1:\n",
        "    print('One')\n",
        "elif num == 2:\n",
        "    print('Two')\n",
        "elif num==3:\n",
        "    print('Three')\n",
        "elif num==4:\n",
        "    print(\"Four\")\n",
        "else:\n",
        "    print(\"Five\")"
      ],
      "execution_count": null,
      "outputs": []
    },
    {
      "cell_type": "code",
      "metadata": {
        "id": "0_N7yJnlK9Fw"
      },
      "source": [
        "num = int(input(\"Enter a number between 1 to 5 - \"))\n",
        "if num == 1:\n",
        "    print('One')\n",
        "elif num == 2:\n",
        "    print('Two')\n",
        "elif num==3:\n",
        "    print('Three')\n",
        "elif num==4:\n",
        "    print(\"Four\")\n",
        "else:\n",
        "    print(\"Five\")"
      ],
      "execution_count": null,
      "outputs": []
    },
    {
      "cell_type": "code",
      "metadata": {
        "id": "BTtX_R4UK_IK"
      },
      "source": [
        "num = int(input(\"Enter a number between 1 to 5 - \"))\n",
        "if num == 1:\n",
        "    print('One')\n",
        "elif num == 2:\n",
        "    print('Two')\n",
        "elif num==3:\n",
        "    print('Three')\n",
        "elif num==4:\n",
        "    print(\"Four\")\n",
        "else:\n",
        "    print(\"Five\")"
      ],
      "execution_count": null,
      "outputs": []
    },
    {
      "cell_type": "code",
      "metadata": {
        "id": "u6n_8uMYLB_m"
      },
      "source": [
        "num = int(input(\"Enter a number between 1 to 5 - \"))\n",
        "if num == 1:\n",
        "    print('One')\n",
        "elif num == 2:\n",
        "    print('Two')\n",
        "elif num==3:\n",
        "    print('Three')\n",
        "elif num==4:\n",
        "    print(\"Four\")\n",
        "else:\n",
        "    print(\"Five\")"
      ],
      "execution_count": null,
      "outputs": []
    },
    {
      "cell_type": "markdown",
      "metadata": {
        "id": "GQEIXAn5LFGy"
      },
      "source": [
        "**So, basically the elif statement is nothing but an if statement after an else statement**"
      ]
    },
    {
      "cell_type": "markdown",
      "metadata": {
        "id": "rqMCS4uMLN4D"
      },
      "source": [
        "# 13. Loops in python\n",
        "\n",
        "Generally, in a program, statements are executed line by line, it means sequentially, but when a block of code needs to be executed multiple times, then what to do? Programming languages comes with that provision also, using loops.\n",
        "\n",
        "Python supports two types of loop\n",
        "\n",
        "while loop\n",
        "\n",
        "for loop\n",
        "\n",
        "\n",
        "\n",
        "This set of codes has been generously contributed by Mr. Tapas Saha\n",
        "Mr. Tapas is a PhD student at the Department of Computer Science & Engineering, Tezpur University, India.\n",
        " Visit this URL to view his works. Thank you!"
      ]
    },
    {
      "cell_type": "markdown",
      "metadata": {
        "id": "Ym14WYfNHK_u"
      },
      "source": [
        "**While loop**\n",
        "\n",
        "While loop allows the user, to execute a group of statements repeatedly, but it checks the condition before entering the loop body. The repetitions will continue until the condition false.\n",
        "\n",
        "Syntax of while loop:\n",
        "\n",
        "while expression:\n",
        "statement(s)\n",
        "\n",
        "Examples:\n",
        "\n",
        "Print the number 1 to 5:"
      ]
    },
    {
      "cell_type": "code",
      "metadata": {
        "id": "OatLwkt4HYao"
      },
      "source": [
        "# initialization \n",
        "i=1\n",
        "while i<=5:\n",
        " print(\"Number ::\",i)  # print the sum\n",
        " i=i+1"
      ],
      "execution_count": null,
      "outputs": []
    },
    {
      "cell_type": "markdown",
      "metadata": {
        "id": "1kLQCw-qHa5N"
      },
      "source": [
        "Another Example\n",
        "\n",
        "*  Sum of n natural number\n",
        "\n",
        "\n"
      ]
    },
    {
      "cell_type": "code",
      "metadata": {
        "id": "JPYcj5XPHg0F"
      },
      "source": [
        "# sum = 1+2+3+...+n\n",
        "\n",
        "#Take input from the user\n",
        "n = int(input(\"Enter n: \"))\n",
        "# initialization \n",
        "sum = 0\n",
        "i = 1\n",
        "\n",
        "while i <= n:\n",
        "    sum = sum + i\n",
        "    i = i+1    \n",
        "# print the sum\n",
        "print(\"The sum is\", sum)"
      ],
      "execution_count": null,
      "outputs": []
    },
    {
      "cell_type": "markdown",
      "metadata": {
        "id": "Sx4gBR5DHsPt"
      },
      "source": [
        "**For Loops:**\n",
        "\n",
        "A for loop is used in python, to execute iterating over the item any sequence. It can be a list, or a tuple, or a dictionary, or a set, or a string.\n",
        "\n",
        "Syntax of for loop:\n",
        "\n",
        "for x in sequence :\n",
        "body\n",
        "\n",
        "Example:\n",
        "\n",
        "Print each characters of the given string"
      ]
    },
    {
      "cell_type": "code",
      "metadata": {
        "id": "_rKY_--dH0C6"
      },
      "source": [
        "string=\" Python\"\n",
        "for i in string :\n",
        "  print(i)"
      ],
      "execution_count": null,
      "outputs": []
    },
    {
      "cell_type": "markdown",
      "metadata": {
        "id": "aYj3B1YMH1_6"
      },
      "source": [
        "Another Example:\n",
        "\n",
        "Print user input string’s each character and \n",
        "\n",
        "*   Print user input string’s each character and index of the characters.\n",
        "\n"
      ]
    },
    {
      "cell_type": "code",
      "metadata": {
        "id": "iUL1uo0BIALA"
      },
      "source": [
        "#Take input from the user,\n",
        "string=input(\"Enter some String: \")\n",
        "# initialization \n",
        "i=0 \n",
        "for x in string :\n",
        " print(\"index of\",x,\"is:\",i) # print\n",
        " i=i+1"
      ],
      "execution_count": null,
      "outputs": []
    },
    {
      "cell_type": "markdown",
      "metadata": {
        "id": "BqEY5g_qIDIi"
      },
      "source": [
        "One more example!\n",
        "\n",
        "Program to calculate the sum and of all numbers stored in a list"
      ]
    },
    {
      "cell_type": "code",
      "metadata": {
        "id": "J6Ram-Y0IHBq"
      },
      "source": [
        "# List of numbers\n",
        "n = [4, 9, 5, 10]\n",
        "# initialization  \n",
        "sum = 0\n",
        "mul=1\n",
        "for i in n:\n",
        "\tsum = sum+i\n",
        "\tmul=mul*i\n",
        "\n",
        "print(\"The sum is\", sum) #pint\n",
        "print(\"The multiplication is\", mul)"
      ],
      "execution_count": null,
      "outputs": []
    },
    {
      "cell_type": "markdown",
      "metadata": {
        "id": "Us3G6UNSIJJX"
      },
      "source": [
        "This set of codes has been generously contributed by Mr. Tapas Saha\n",
        "\n",
        "Mr. Tapas is a PhD student at the Department of Computer Science & Engineering, Tezpur University, India.\n",
        "\n",
        "Visit this URL to view his works\n",
        "\n",
        "**Thank you!**"
      ]
    },
    {
      "cell_type": "markdown",
      "metadata": {
        "id": "j_6O6tSpINGf"
      },
      "source": [
        "# 14. Functions in python\n",
        "Nothing to write here. Let the code do the talking! 🔥🔥\n",
        "\n"
      ]
    },
    {
      "cell_type": "markdown",
      "metadata": {
        "id": "YLSaNPO5IRFf"
      },
      "source": [
        "**Functions**\n",
        "\n",
        "Functions are like recipies. Suppose you and I want to bake a cake. You went online and googled a recipie. Now we both will follow the same recipies but you want to use chololate flavour and I want to use pineapple! So we follow the same recipie but produce new results.\n",
        "\n",
        "A function is thus a block of code that can be re-used or run whenever it is needed. Information passed to a function is called an argument (the ingredients for the recipie-analogy)\n",
        "\n",
        "**Defining the function**\n",
        "\n",
        "Let us create a dedicated function that can add 2 numbers"
      ]
    },
    {
      "cell_type": "code",
      "metadata": {
        "id": "4w5O6aK2IYkH"
      },
      "source": [
        "def add(a,b):\n",
        " return (a+b)"
      ],
      "execution_count": null,
      "outputs": []
    },
    {
      "cell_type": "markdown",
      "metadata": {
        "id": "G6ZPDLOzIamI"
      },
      "source": [
        "**Calling a function**\n",
        "\n",
        "We will now feed some data to the function to get the sum value"
      ]
    },
    {
      "cell_type": "code",
      "metadata": {
        "id": "4U53OoIQId03"
      },
      "source": [
        "x = float(input(\"Hey user, enter the first number - \"))\n",
        "y = float(input(\"Nice! now enter the second number - \"))\n",
        "print(f\"The sum of {x} and {y} is {add(x,y)}\")"
      ],
      "execution_count": null,
      "outputs": []
    },
    {
      "cell_type": "markdown",
      "metadata": {
        "id": "JrLgtjqPIhBP"
      },
      "source": [
        "Saw that? Now just imagine how cool it would be to have a dedicated function for doing a more complex task!!\n",
        "\n",
        "**Lambda Expressions**\n",
        "\n",
        "Lambda function is used to create small elegant anonymous functions, generally used with filter() and map()"
      ]
    },
    {
      "cell_type": "code",
      "metadata": {
        "id": "1VnRsjivInGS"
      },
      "source": [
        "m = lambda n:n**2\n",
        "m(3)"
      ],
      "execution_count": null,
      "outputs": []
    },
    {
      "cell_type": "markdown",
      "metadata": {
        "id": "ptVzr0N2Iqjg"
      },
      "source": [
        "\n",
        "**The map() function**\n",
        "\n",
        "This takes in a function and a list.\n",
        "The function perform an operation on the entire list and return the results in a new list.\n",
        "Let us see it work with a simple cube of a number"
      ]
    },
    {
      "cell_type": "code",
      "metadata": {
        "id": "MdMa18gUIv-2"
      },
      "source": [
        "my_list = [5, 10, 55 , 568, 468, 77]\n",
        "output_list = list(map( lambda x: x**3, my_list))\n",
        "print(output_list)"
      ],
      "execution_count": null,
      "outputs": []
    },
    {
      "cell_type": "markdown",
      "metadata": {
        "id": "yIwGYsTwIz-H"
      },
      "source": [
        "\n",
        "**The filter() function**\n",
        "\n",
        "This performs an operation on a list based on a specific condition after filtering\n",
        "Let us see it work with a simple condition statement - numbers less than or equal to 201"
      ]
    },
    {
      "cell_type": "code",
      "metadata": {
        "id": "fngOgNhcI3du"
      },
      "source": [
        "my_list = [5, 10, 55 , 568, 468, 77]\n",
        "condition = list(filter(lambda x: (x <= 201), my_list))\n",
        "print(condition)"
      ],
      "execution_count": null,
      "outputs": []
    },
    {
      "cell_type": "markdown",
      "metadata": {
        "id": "-MA0vw-TI87b"
      },
      "source": [
        "# 15. Error handling in python\n",
        "This is one of the most important concepts to make a coder's life easier. \n",
        "Just walk through the code and you'll get what I mean. Let the code do the talking! 🔥🔥"
      ]
    },
    {
      "cell_type": "markdown",
      "metadata": {
        "id": "xo1XqnxmJAFA"
      },
      "source": [
        "While running an automated code that works on unknown or new data, it might happen that the code encounters an error at some point. You, as a coder might not like the execution process to stop. Rather you would like to have a notification that the error was found and that particular execution was bye-passed.\n",
        "\n",
        "This is where the try-except feature of pythons comes to the rescue!"
      ]
    },
    {
      "cell_type": "code",
      "metadata": {
        "id": "3o4LGe9eJCw5"
      },
      "source": [
        "# understanding an error - let us try to print an undefined variable\n",
        "print(name)\n",
        "a=111\n",
        "b=222\n",
        "print(a+b)"
      ],
      "execution_count": null,
      "outputs": []
    },
    {
      "cell_type": "markdown",
      "metadata": {
        "id": "WbWmZHTvJNuc"
      },
      "source": [
        "Notice that the consequent codes were not executed after the error.\n",
        "Now let us attempt to bye-pass the error part of the code and move on to the next executions"
      ]
    },
    {
      "cell_type": "code",
      "metadata": {
        "id": "stm-da2RJRln"
      },
      "source": [
        "try:\n",
        "    print(name)\n",
        "except NameError:\n",
        "    print(\"Error - The variable has no value defined to be printed in the first place.\")\n",
        "except:\n",
        "    print(\"Error - Not sure what the error is, but there is something wrong!\")\n",
        "a=111\n",
        "b=222\n",
        "print(a+b)"
      ],
      "execution_count": null,
      "outputs": []
    },
    {
      "cell_type": "markdown",
      "metadata": {
        "id": "QxN1Oz6ZJU7f"
      },
      "source": [
        "The above example only shows an application of the Built-in exceptions in python.\n",
        "There are many Built in Exceptions available to be used.\n",
        "You can learn about them here - https://docs.python.org/3/library/exceptions.html#bltin-exceptions\n",
        "\n",
        "**Till then, have fun!**"
      ]
    },
    {
      "cell_type": "markdown",
      "metadata": {
        "id": "fzYoL5gfJduq"
      },
      "source": [
        "# 16. File handling in python\n",
        "Let the code do the talking! 🔥🔥"
      ]
    },
    {
      "cell_type": "markdown",
      "metadata": {
        "id": "4Yuam4u-JhLo"
      },
      "source": [
        "## **File Operations using python**\n",
        "\n",
        "**Modes for file handling**\n",
        "\n",
        "*  Creating a file - \"x\"\n",
        "*  Reading a file - \"r\"\n",
        "*  Writing a file - \"w\"\n",
        "*  Appending a file - \"a\"\n"
      ]
    },
    {
      "cell_type": "markdown",
      "metadata": {
        "id": "ymGz9iqWKFnG"
      },
      "source": [
        "**Creating a file**\n",
        "\n",
        "Here we create a .txt (text) file, which we will use in the next steps!"
      ]
    },
    {
      "cell_type": "code",
      "metadata": {
        "id": "MLXL0cxgKLTe"
      },
      "source": [
        "f = open(\"file.txt\", \"x\") # open() is used to open the file we want to create/read/write/append"
      ],
      "execution_count": null,
      "outputs": []
    },
    {
      "cell_type": "markdown",
      "metadata": {
        "id": "gwGj0tBTKM2E"
      },
      "source": [
        "\"f\" above can be considered as a file handler. One can use other names too!\n",
        "Now it's time to write some data in the file"
      ]
    },
    {
      "cell_type": "markdown",
      "metadata": {
        "id": "-JD3oGzwKPZv"
      },
      "source": [
        "**Reading a file**\n",
        "\n",
        "This only works when the file name mentioned actually exists, just like one can only read a book if the book actually exists!"
      ]
    },
    {
      "cell_type": "code",
      "metadata": {
        "id": "KNbR4XQuKU3e"
      },
      "source": [
        "f = open(\"file.txt\", \"r\")\n",
        "print(f.read())"
      ],
      "execution_count": null,
      "outputs": []
    },
    {
      "cell_type": "markdown",
      "metadata": {
        "id": "B6VO7DEoKaN1"
      },
      "source": [
        "**Writing to a file**\n",
        "\n",
        "This creates a new file if the file name used does not exist, just like one can write a book if the book does not already exist (I know the analogy is a bit lame, but please bear with me! 😅)"
      ]
    },
    {
      "cell_type": "code",
      "metadata": {
        "id": "mmnQi3T-KfPe"
      },
      "source": [
        "f = open(\"file.txt\", \"w\")\n",
        "f.write(\"This sentence replaces the sentence already present in the file named 'file.txt'\")"
      ],
      "execution_count": null,
      "outputs": []
    },
    {
      "cell_type": "markdown",
      "metadata": {
        "id": "2kH2vt3HLK2W"
      },
      "source": [
        "*check the result*"
      ]
    },
    {
      "cell_type": "code",
      "metadata": {
        "id": "JGRGf9t4LSbv"
      },
      "source": [
        "f = open(\"file.txt\", \"r\")\n",
        "print(f.read())"
      ],
      "execution_count": null,
      "outputs": []
    },
    {
      "cell_type": "markdown",
      "metadata": {
        "id": "qeVFhDtvLUH1"
      },
      "source": [
        "This sentence replaces the sentence already present in the file named 'file.txt'\n",
        "\n",
        "Now, let's try writing to a file that does not exist. We will see that the file is created for us before writing into it."
      ]
    },
    {
      "cell_type": "code",
      "metadata": {
        "id": "cG9rnGlkLjCP"
      },
      "source": [
        "f = open(\"another-file.txt\", \"w\")\n",
        "f.write(\"This sentence is present in the file named 'another-file.txt'\")"
      ],
      "execution_count": null,
      "outputs": []
    },
    {
      "cell_type": "code",
      "metadata": {
        "id": "JD92cCDjLgHY"
      },
      "source": [
        "f = open(\"another-file.txt\", \"r\")\n",
        "print(f.read())"
      ],
      "execution_count": null,
      "outputs": []
    },
    {
      "cell_type": "markdown",
      "metadata": {
        "id": "kiJLFFU3LnfJ"
      },
      "source": [
        "This sentence is present in the file named 'another-file.txt'\n",
        "Nice!!\n",
        "\n"
      ]
    },
    {
      "cell_type": "markdown",
      "metadata": {
        "id": "hm8W2UTTLrmN"
      },
      "source": [
        "**Appendig to a file**\n",
        "\n",
        "Works same as writing to a file. Only difference is that it does not replace the pre-existing text."
      ]
    },
    {
      "cell_type": "code",
      "metadata": {
        "id": "RVu1lknGLwdH"
      },
      "source": [
        "f = open(\"file.txt\", \"r\")\n",
        "print(f.read())"
      ],
      "execution_count": null,
      "outputs": []
    },
    {
      "cell_type": "markdown",
      "metadata": {
        "id": "_Uo6iHrcLzVf"
      },
      "source": [
        "This sentence replaces the sentence already present in the file named 'file.txt'"
      ]
    },
    {
      "cell_type": "code",
      "metadata": {
        "id": "ZviLldnbL1bl"
      },
      "source": [
        "f = open(\"file.txt\", \"a\")\n",
        "f.write(\"This sentence appends to the sentence already present in the file named 'file.txt'\")"
      ],
      "execution_count": null,
      "outputs": []
    },
    {
      "cell_type": "code",
      "metadata": {
        "id": "CiD-e0wOL33W"
      },
      "source": [
        "f = open(\"file.txt\", \"r\")\n",
        "print(f.read())"
      ],
      "execution_count": null,
      "outputs": []
    },
    {
      "cell_type": "markdown",
      "metadata": {
        "id": "8EF0D032L6mu"
      },
      "source": [
        "This sentence replaces the sentence already present in the file named 'file.txt'This sentence appends to the sentence already present in the file named 'file.txt'\n",
        "\n",
        "\n",
        "\n",
        "Now, let's try appending to a file that does not exist. We will see that the file is created for us before appending into it.\n",
        "\n"
      ]
    },
    {
      "cell_type": "code",
      "metadata": {
        "id": "szcC-0KXME6i"
      },
      "source": [
        "f = open(\"another-file2.txt\", \"a\")\n",
        "f.write(\"This sentence is present in the file named 'another-file2.txt'\")"
      ],
      "execution_count": null,
      "outputs": []
    },
    {
      "cell_type": "code",
      "metadata": {
        "id": "2l6kIcilMJ42"
      },
      "source": [
        "f = open(\"another-file2.txt\", \"r\")\n",
        "print(f.read())"
      ],
      "execution_count": null,
      "outputs": []
    },
    {
      "cell_type": "markdown",
      "metadata": {
        "id": "S2m-cvyAML00"
      },
      "source": [
        "This sentence is present in the file named 'another-file2.txt'\n",
        "\n",
        "**Now, that's how we deal with files using python. We can also make files of other extensions like .csv, .tsv, etc in the same procedure!**"
      ]
    }
  ]
}
