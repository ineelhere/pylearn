{
  "nbformat": 4,
  "nbformat_minor": 0,
  "metadata": {
    "colab": {
      "name": "codes.ipynb",
      "private_outputs": true,
      "provenance": []
    },
    "kernelspec": {
      "name": "python3",
      "display_name": "Python 3"
    },
    "language_info": {
      "name": "python"
    }
  },
  "cells": [
    {
      "cell_type": "markdown",
      "metadata": {
        "id": "qsixJ4m9-0RK"
      },
      "source": [
        ""
      ]
    },
    {
      "cell_type": "code",
      "metadata": {
        "id": "Isqsm-FG8nPA"
      },
      "source": [
        "print('Hello World!!')\n",
        "print('Get ready to rock-N-roll ')"
      ],
      "execution_count": null,
      "outputs": []
    },
    {
      "cell_type": "code",
      "metadata": {
        "id": "I6qehZ5o-bAI"
      },
      "source": [
        "# we saw that the lines automatically shifted to new lines.\n",
        "# although we can do this manually too, in one print statement\n",
        "\n",
        "print('Hello World!! \\nGet ready to rock-N-roll')"
      ],
      "execution_count": null,
      "outputs": []
    },
    {
      "cell_type": "code",
      "metadata": {
        "id": "aJ7LO5RnD3We"
      },
      "source": [
        "#asking user for a text (name)\n",
        "username = input('Please enter your name - ')\n",
        "\n",
        "#lets greet the user now\n",
        "print ('Hello ' +username)"
      ],
      "execution_count": null,
      "outputs": []
    }
  ]
}
